{
 "cells": [
  {
   "cell_type": "markdown",
   "id": "f47ce392",
   "metadata": {},
   "source": [
    "## GW analysis with DM effects (EMRI)"
   ]
  },
  {
   "cell_type": "code",
   "execution_count": 1,
   "id": "bf3c7e9e",
   "metadata": {},
   "outputs": [],
   "source": [
    "import numpy as np\n",
    "import matplotlib.pyplot as plt\n",
    "from astropy import units as u\n",
    "from astropy import constants as const\n",
    "from scipy.integrate import solve_ivp, quad"
   ]
  },
  {
   "cell_type": "code",
   "execution_count": 2,
   "id": "9a100657",
   "metadata": {},
   "outputs": [],
   "source": [
    "# Define some useful constants and relations\n",
    "G = const.G\n",
    "c = const.c\n",
    "\n",
    "#conversion factors\n",
    "m2pc = u.pc / const.pc\n",
    "solar2kg = const.M_sun / u.M_sun\n",
    "s2hr = u.hour / u.s / (60*60) \n",
    "yr2s = 3.154e+7 * u.s"
   ]
  },
  {
   "cell_type": "markdown",
   "id": "b8e2db70",
   "metadata": {},
   "source": [
    "## Useful functions from last notebook"
   ]
  },
  {
   "cell_type": "code",
   "execution_count": 91,
   "id": "421fd2f6",
   "metadata": {},
   "outputs": [],
   "source": [
    "#calculate rsp given Mbh in solar masses, rho_sp in solar masses/pc^3 and spike coefficient gamma\n",
    "#returns spike radius in pc\n",
    "def rsp(M, rho, gamma):\n",
    "    return 1.08e-1 * (  (3-gamma)**(1/3) * (0.2)**(-gamma/3) ) * (M/const.M_sun)**(1/3) * (rho /(u.M_sun / u.pc**3) ) **(-1/3) * u.pc\n",
    "\n",
    "\n",
    "#calculate halo density given r in pc, rhosp in solar masses/pc^3 and m1 in solar masses\n",
    "#returns density in solar mass / pc^3\n",
    "def rho(r, rhosp, gamma, m1):\n",
    "#     if (r < 4 * G * m1 / c**2 * m2pc):\n",
    "#         return 0 * rhosp\n",
    "#     else:\n",
    "    return rhosp * ( r / rsp(m1,rhosp,gamma)) **(-gamma)\n",
    "\n",
    "#Function to calculate the radial decay due to GW and DM energy loss\n",
    "#time is given in seconds (although no astropy units are explicilty used as the \n",
    "#numerical solver sin't compatible with those objects)\n",
    "\n",
    "def dadt(t, a0, m1, m2, rhosp, gamma ):\n",
    "    \n",
    "    #computing the total and reduced mass\n",
    "    m = m1 + m2\n",
    "    mu = m1*m2 / (m)\n",
    "    \n",
    "    a = a0*u.m\n",
    "    l_log = np.log(m1 / m2) / 2\n",
    "    \n",
    "    phi = np.sqrt( G * m / a**3  )\n",
    "    v  = np.sqrt( G * m  / a )      #from virial theorem K = -1/2 U -> 1/2 m v^2 = G m / 2a \n",
    "    \n",
    "    return -2*a**2 / (G * m * mu) * (  32/5 * G**4 * mu**2 * m**3 / (c**5 * a**5) \n",
    "                                     + 4*np.pi*G**2 * mu**2 * rho(a * m2pc , rhosp, gamma, m1) * l_log / v * solar2kg *m2pc**3 ) *u.s / u.m \n",
    "\n",
    "def dadt_nodm(t, a0, m1, m2 ):\n",
    "    \n",
    "    #computing the total and reduced mass\n",
    "    m = m1 + m2\n",
    "    mu = m1*m2 / (m)\n",
    "    \n",
    "    a = a0*u.m\n",
    "    l_log = np.log(m1 / m2) / 2\n",
    "    \n",
    "    phi = np.sqrt( G * m / a**3  )\n",
    "    v  = np.sqrt( G * m  / a )      #from virial theorem K = -1/2 U -> 1/2 m v^2 = G m / 2a \n",
    "    \n",
    "    return -2*a**2 / (G * m * mu) * (  32/5 * G**4 * mu**2 * m**3 / (c**5 * a**5) ) *u.s / u.m\n",
    "#This returns the overal orbital decay dr/dt in units of m/s (that's why they're removed at the end as \n",
    "#to be compatitble with the numerical solver)\n",
    "\n",
    "#function to terminate the evolution when the binary has a separation of about 1 risco\n",
    "def terminator_nodm(t, a, m1, m2):\n",
    "    return a - 6*const.G * m1 / const.c**2 /u.m\n",
    "\n",
    "#function to terminate the evolution when the binary has a separation of about 1 risco (only for the DM case)\n",
    "def terminator_dm(t, a, m1, m2, rhosp, gamma ):\n",
    "    return a - 6*const.G * m1 / const.c**2 /u.m\n",
    "terminator.terminal = True\n",
    "\n",
    "#Functions to that compute f_gw / dot(f)_gw as a function of the given gravitaitonal wave frequency f_gw\n",
    "#The input (f0) is in Hz without astropy units to avoid conflicts with the numerical solver\n",
    "\n",
    "#for a system without dark matter\n",
    "def fgw_nodm(f0, m1, m2):\n",
    "    \n",
    "    #computing the total mass\n",
    "    m = m1 + m2\n",
    "    \n",
    "    #computing the orbital frequency\n",
    "    forb = f0 / 2 / u.s\n",
    "    #computing semimajor axis from the orbital frequency\n",
    "    a = ( const.G * m / (forb)**2) **(1/3)  \n",
    "    #computing the decay in semimajor axis\n",
    "    da = dadt_nodm(0, a / u.m, m1, m2 )\n",
    "    \n",
    "    #computing fdot\n",
    "    fdot = -3 * (G * m) **(-1/3) * (forb)**(5/3) * (da * u.m / u.s) \n",
    "    #removing the units for fdot\n",
    "    fdot = fdot * (u.s)**2\n",
    "    #computing f_gw / dot(f)_gw\n",
    "    f_fdot = f0 / fdot\n",
    "    \n",
    "    return f_fdot\n",
    "\n",
    "#for a system with dark matter\n",
    "def fgw_dm(f0, m1, m2, rhosp, gamma ):\n",
    "    \n",
    "    #computing the total mass\n",
    "    m = m1 + m2\n",
    "    \n",
    "    #computing the orbital frequency\n",
    "    forb = f0 / 2 / u.s\n",
    "    #computing semimajor axis from the orbital frequency\n",
    "    a = ( const.G * m / (forb)**2) **(1/3)  \n",
    "    #computing the decay in semimajor axis\n",
    "    da = dadt(0, a / u.m, m1, m2, rhosp, gamma )\n",
    "\n",
    "    \n",
    "    #computing fdot\n",
    "    fdot = -3 * (G * m) **(-1/3) * (forb)**(5/3) * (da * u.m / u.s) \n",
    "    #removing the units for fdot\n",
    "    fdot = fdot * (u.s)**2\n",
    "    #computing f_gw / dot(f)_gw\n",
    "    f_fdot = f0 / fdot\n",
    "    \n",
    "    return f_fdot\n",
    "\n",
    "#final frequency\n",
    "def fend(a, m1, m2):\n",
    "    return np.sqrt( const.G * (m1+ m2) / a**3)\n",
    "\n",
    "#function to compute at which approximate radius the evolution becomes visible for a detector sensitivity of f_minimum\n",
    "#and total mass of the system \"m\"\n",
    "\n",
    "def a_start(f_minimum, m):\n",
    "    forb = 0.5 * f_minimum\n",
    "    return (G * m / forb**2) ** (1/3)"
   ]
  },
  {
   "cell_type": "markdown",
   "id": "6fdbce5e",
   "metadata": {},
   "source": [
    "## Function for evolving the different cases given the grids for the total masses and mass ratios "
   ]
  },
  {
   "cell_type": "code",
   "execution_count": 92,
   "id": "46c75926",
   "metadata": {},
   "outputs": [],
   "source": [
    "def evolver_emri(n,mtot,mq, Z, gamma, rhosp):\n",
    "    for i in range(0,n):\n",
    "        for j in range(0,n):\n",
    "            \n",
    "            #setting the masses\n",
    "            m2 =  mtot[0][i] * mq[j][0] / (1 + mq[j][0] ) * const.M_sun\n",
    "            m1 =  mtot[0][i] * const.M_sun - m2\n",
    "            \n",
    "            risco = 6 * G * m1 / c**2\n",
    "            \n",
    "            fmin = 1e-3 #minimm frequency at which the signal can be detectable to the detector\n",
    "            a0 = a_start(fmin / u.s, m1 + m2)\n",
    "\n",
    "            #coalescence time\n",
    "            tcoal = 5/256 * const.c**5 * a0**4 / ( const.G**3 * (m1+m2) * (m1 * m2)  )\n",
    "            tend = yr2s * 5 /u.s #evolving for 5 years and removing the units (seconds)\n",
    "            \n",
    "            \n",
    "            #Solving the system for the final frequency\n",
    "\n",
    "            sol_dm = solve_ivp(dadt, args = ( m1, m2, rhosp, gamma ), t_span = [0, tend], y0 = [a0 / u.m], events=terminator_dm,\n",
    "                               dense_output=True, method = 'RK45' , atol=1e-6, rtol=1e-5)\n",
    "            sol_nodm = solve_ivp(dadt_nodm, args = (m1, m2 ), t_span = [0, tend], y0 = [a0 / u.m], events=terminator_nodm,\n",
    "                               dense_output=True, method = 'RK45' , atol=1e-6, rtol=1e-5)\n",
    "            \n",
    "            a_dm =  sol_dm.sol(sol_dm.t[-1])[0]\n",
    "            a_nodm =  sol_nodm.sol(sol_nodm.t[-1])[0]\n",
    "            fmax_dm = fend(a_dm * u.m, m1 ,m2) * u.s  #final frequency in hertz (removing units as numerical integration \n",
    "                                                   #requires unitless quantities)\n",
    "            fmax_nodm = fend(a_nodm * u.m, m1 ,m2) * u.s  #final frequency in hertz (removing units as numerical integration \n",
    "                                                   #requires unitless quantities)\n",
    "\n",
    "            #manually putting the lisa f_max in Hz, as in 0.1 hz\n",
    "            if fmax_dm > 1e-1 :\n",
    "                fmax_dm = 1e-1\n",
    "            if fmax_nodm > 1e-1:\n",
    "                fmax_nodm = 1e-1\n",
    "\n",
    "                \n",
    "            #Integrating the number of cycles\n",
    "            N_nodm = quad(fgw_nodm, fmin , fmax_nodm, args = (m1, m2) )[0]\n",
    "            \n",
    "            N_dm = quad(fgw_dm, fmin , fmax_dm, args = ( m1, m2, rhosp, gamma ) )[0]\n",
    "            \n",
    "\n",
    "            Z[j][i] = np.abs(N_nodm - N_dm) * 2 * np.pi\n",
    "\n",
    "            print('\\r' + str(j) + \", Completion : \" + str(i+1) + \"/\" + str(n), end='', flush=True)\n",
    "            \n",
    "    return Z"
   ]
  },
  {
   "cell_type": "markdown",
   "id": "1bf06a09",
   "metadata": {},
   "source": [
    "## Giving the system the dark matter conditions and total masses / mass ratio arrays"
   ]
  },
  {
   "cell_type": "code",
   "execution_count": 93,
   "id": "99350b1c",
   "metadata": {},
   "outputs": [
    {
     "name": "stdout",
     "output_type": "stream",
     "text": [
      "10, Completion : 11/11"
     ]
    }
   ],
   "source": [
    "#Array configuration for 1-100 Msolar \n",
    "\n",
    "#mass ratio that spans 1e-4 - 1e-5\n",
    "mq_array = [0.1 , 0.19, 0.28, 0.37, 0.46, 0.55, 0.64, 0.73, 0.82, 0.91, 1.  ]\n",
    "mq = np.meshgrid(mq_array, mq_array)[1] * 1e-4\n",
    "\n",
    "#total mass that spans 1e4 - 1e5 solar masses\n",
    "mtot_array = [0.1 , 0.19, 0.28, 0.37, 0.46, 0.55, 0.64, 0.73, 0.82, 0.91, 1.  ]\n",
    "mtot = np.meshgrid(mtot_array, mtot_array)[0] * 1e5\n",
    "\n",
    "#array to store number of cycles\n",
    "Z100 = mtot * mq * 0.0\n",
    "\n",
    "#length of array\n",
    "n = 11\n",
    "\n",
    "#Halo properties:\n",
    "gamma = 7/3  #spike coefficient (7/4 for Self interacting dark matter and 9/4 for primordial black holes)\n",
    "rhosp = 226 * u.M_sun / u.pc**3 #initial density in solar mass /pc^3\n",
    "\n",
    "Z100 = evolver_emri(n,mtot,mq, Z100, gamma, rhosp)"
   ]
  },
  {
   "cell_type": "markdown",
   "id": "7f95d99e",
   "metadata": {},
   "source": [
    "## Plotting the results"
   ]
  },
  {
   "cell_type": "code",
   "execution_count": 99,
   "id": "0e34cfd2",
   "metadata": {},
   "outputs": [
    {
     "data": {
      "image/png": "[encoded data removed]",
      "text/plain": [
       "<Figure size 600x700 with 4 Axes>"
      ]
     },
     "metadata": {},
     "output_type": "display_data"
    }
   ],
   "source": [
    "plt.subplots(2, 1, figsize=(6, 7))\n",
    "plt.tight_layout()\n",
    "\n",
    "plt.subplot(2, 1, 1)\n",
    "\n",
    "\n",
    "plt.pcolormesh(mtot,mq, np.log10(Z100) )\n",
    "plt.ylabel('$m_2 \\; / \\; m_1 \\quad (M_{\\odot})$', fontsize=14)\n",
    "title_gamma = '$\\gamma = $' + '{:.2f}'.format(gamma)\n",
    "title_rho = ',  $\\\\rho_{sp} = $' + str(rhosp * u.pc**3 / u.M_sun) + \" $M_{\\odot} / pc^3$\"\n",
    "# title_m = ',  $M_{SMBH} = $' + '{:.1E}'.format(M1 / const.M_sun) + ' $M_{\\odot}$ \\n'\n",
    "# title_r = '$R_{SMBH} = $' + '{:.1E}'.format( R * m2pc / u.pc) + ' $pc$  (' +  '{:.1f}'.format(R / (2 * G * M1 / c**2)) +'$R_s$' +') \\n'\n",
    "# title_ambient = 'Ambient dark matter: ' + '{:.1E}'.format(rho(R * m2pc , rhosp, gamma, M1) * u.pc**3 / u.M_sun) + \" $M_{\\odot} / pc^3$\"\n",
    "\n",
    "plt.title(title_gamma +  title_rho )\n",
    "\n",
    "cb = plt.colorbar()\n",
    "cb.set_label('Log Number of phase differences  ($\\log_{10}{(2 \\pi N_{diff} )}$)')\n",
    "\n",
    "\n",
    "plt.subplot(2, 1, 2)\n",
    "plt.subplots_adjust(hspace=0)\n",
    "plt.pcolormesh(mtot,mq, Z100)\n",
    "plt.xlabel('$m_1 + m_2 \\quad (M_{\\odot})$', fontsize=14)\n",
    "plt.ylabel('$m_2 \\; / \\; m_1 \\quad (M_{\\odot})$', fontsize=14)\n",
    "\n",
    "cb = plt.colorbar()\n",
    "cb.set_label('Number of phase differences  ($2 \\pi N_{diff}$)')"
   ]
  },
  {
   "cell_type": "code",
   "execution_count": null,
   "id": "3020eb5f",
   "metadata": {},
   "outputs": [],
   "source": []
  },
  {
   "cell_type": "code",
   "execution_count": null,
   "id": "3d0aefeb",
   "metadata": {},
   "outputs": [],
   "source": []
  },
  {
   "cell_type": "code",
   "execution_count": null,
   "id": "44f16677",
   "metadata": {},
   "outputs": [],
   "source": []
  },
  {
   "cell_type": "code",
   "execution_count": null,
   "id": "e914ec2e",
   "metadata": {},
   "outputs": [],
   "source": []
  },
  {
   "cell_type": "code",
   "execution_count": null,
   "id": "2f7db98b",
   "metadata": {},
   "outputs": [],
   "source": []
  },
  {
   "cell_type": "code",
   "execution_count": null,
   "id": "3aaab91c",
   "metadata": {},
   "outputs": [],
   "source": []
  },
  {
   "cell_type": "code",
   "execution_count": null,
   "id": "49f104d1",
   "metadata": {},
   "outputs": [],
   "source": []
  },
  {
   "cell_type": "code",
   "execution_count": null,
   "id": "24ee6925",
   "metadata": {},
   "outputs": [],
   "source": []
  },
  {
   "cell_type": "code",
   "execution_count": null,
   "id": "dec22e2f",
   "metadata": {},
   "outputs": [],
   "source": []
  },
  {
   "cell_type": "code",
   "execution_count": null,
   "id": "602fdc7f",
   "metadata": {},
   "outputs": [],
   "source": []
  },
  {
   "cell_type": "code",
   "execution_count": null,
   "id": "bc126097",
   "metadata": {},
   "outputs": [],
   "source": []
  },
  {
   "cell_type": "code",
   "execution_count": null,
   "id": "0bb97191",
   "metadata": {},
   "outputs": [],
   "source": []
  },
  {
   "cell_type": "code",
   "execution_count": null,
   "id": "cdbb3e0f",
   "metadata": {},
   "outputs": [],
   "source": []
  },
  {
   "cell_type": "code",
   "execution_count": null,
   "id": "31a09603",
   "metadata": {},
   "outputs": [],
   "source": []
  },
  {
   "cell_type": "code",
   "execution_count": null,
   "id": "7deb3f9d",
   "metadata": {},
   "outputs": [],
   "source": []
  },
  {
   "cell_type": "markdown",
   "id": "0f1379ab",
   "metadata": {},
   "source": [
    "## Testing functions (this is just scratch that I used, cleaned up version is summarized above)"
   ]
  },
  {
   "cell_type": "markdown",
   "id": "eaa296d2",
   "metadata": {},
   "source": [
    "## Setting initial conditions for the system"
   ]
  },
  {
   "cell_type": "code",
   "execution_count": 98,
   "id": "e749d5e5",
   "metadata": {},
   "outputs": [
    {
     "name": "stdout",
     "output_type": "stream",
     "text": [
      "The masse of m_1 (solar mass) is:  1000.0\n",
      "Which has a Schwarzschild radius of (for m_1) 2953.2500761002498 (km)\n",
      "The masse of m_1 (solar mass) is:  1.0\n",
      "Which has a Schwarzschild radius of (for m_2) 2.95325007610025 (km)\n",
      "Mass ratio:  1000.0\n",
      "They will start evolving from :914.2123610098635 (risco) or 8099693.174172505 (km)\n",
      "They will stop evolving at 1 risco which is 8859.750228300749 (km)\n",
      "-------------------------------------------\n",
      "Total evolution time\n",
      "For a binary with masses (solar masses) M1: 1000.0, and M2: 1.0, and separation of 8099693.174 km (914.212 risco)\n",
      "will have a coalescing time of\n"
     ]
    },
    {
     "data": {
      "text/latex": [
       "$2.4167757 \\times 10^{10} \\; \\mathrm{h}$"
      ],
      "text/plain": [
       "<Quantity 2.41677569e+10 h>"
      ]
     },
     "execution_count": 98,
     "metadata": {},
     "output_type": "execute_result"
    }
   ],
   "source": [
    "#define the initial parameters of the system (masses and initial semimajor axis)\n",
    "m1 = 1e3 * const.M_sun\n",
    "m2 = 1 * const.M_sun\n",
    "\n",
    "\n",
    "risco = 6 * G * m1 / c**2\n",
    "\n",
    "m = m1 + m2\n",
    "mu = m1*m2 / (m)\n",
    "\n",
    "#DM side\n",
    "gamma = 7/3  #spike coefficient (7/4 for Self interacting dark matter and 9/4 for primordial black holes)\n",
    "rhosp = 226 * u.M_sun / u.pc**3 #initial density in solar mass /pc^3\n",
    "\n",
    "\n",
    "#Print some of the binary info\n",
    "#----------------------------------------------------------------------------------------------\n",
    "print(\"The masse of m_1 (solar mass) is: \", m1 / const.M_sun)\n",
    "print(\"Which has a Schwarzschild radius of (for m_1) \" + str( 2 * G * m1 / c**2 / u.m / 1e3 ) + \" (km)\")\n",
    "print(\"The masse of m_1 (solar mass) is: \", m2 / const.M_sun)\n",
    "print(\"Which has a Schwarzschild radius of (for m_2) \" + str( 2 * G * m2 / c**2 / u.m / 1e3 ) + \" (km)\")\n",
    "print(\"Mass ratio: \", m1/m2)\n",
    "print(\"They will start evolving from :\" + str( a0/risco) + \" (risco) or \" + str(a0 / 1e3 /  u.m) + \" (km)\" )\n",
    "print(\"They will stop evolving at 1 risco which is \" + str(risco / 1e3 /  u.m) + \" (km)\" )\n",
    "\n",
    "\n",
    "fmin = 1e-3 #minimum frequency at which the signal can be detectable to the detector\n",
    "a0 = a_start(fmin / u.s, m)\n",
    "print('-------------------------------------------')\n",
    "print('Total evolution time')\n",
    "print('For a binary with masses (solar masses) M1: ' + str(m1 / const.M_sun) + str(\", and M2: \") + str(m2 / const.M_sun) + \", and separation of \" + '{:.3f}'.format(a0 / 1000 /u.m) + str(' km (') +   '{:.3f}'.format(a0 / risco) + str(' risco)')       )\n",
    "print('will have a coalescing time of')\n",
    "tcoal = 5/256 * const.c**5 * a0**4 / ( const.G**3 * m**2 * mu )\n",
    "tcoal * s2hr"
   ]
  },
  {
   "cell_type": "code",
   "execution_count": 99,
   "id": "5e371c3d",
   "metadata": {},
   "outputs": [
    {
     "data": {
      "text/plain": [
       "  message: A termination event occurred.\n",
       "  success: True\n",
       "   status: 1\n",
       "        t: [ 0.000e+00  1.000e-04 ...  1.161e+10  1.161e+10]\n",
       "        y: [[ 8.100e+09  8.100e+09 ...  9.870e+06  8.860e+06]]\n",
       "      sol: <scipy.integrate._ivp.common.OdeSolution object at 0x0000022CBC164B20>\n",
       " t_events: [array([ 1.161e+10])]\n",
       " y_events: [array([[ 8.860e+06]])]\n",
       "     nfev: 566\n",
       "     njev: 0\n",
       "      nlu: 0"
      ]
     },
     "execution_count": 99,
     "metadata": {},
     "output_type": "execute_result"
    }
   ],
   "source": [
    "sol_nodm = solve_ivp(dadt_nodm, [0, tend], [a0 / u.m], dense_output=True, events=terminator, method = 'RK45' , atol=1e-6, rtol=1e-5)\n",
    "sol = solve_ivp(dadt,[0, tend], [a0 / u.m], dense_output=True, events=terminator, method = 'RK45' , atol=1e-6, rtol=1e-5)\n",
    "sol"
   ]
  },
  {
   "cell_type": "code",
   "execution_count": 100,
   "id": "812ea45e",
   "metadata": {},
   "outputs": [
    {
     "data": {
      "image/png": "[encoded data removed]",
      "text/plain": [
       "<Figure size 1000x800 with 1 Axes>"
      ]
     },
     "metadata": {},
     "output_type": "display_data"
    }
   ],
   "source": [
    "plt.figure(figsize=(10,8))\n",
    "\n",
    "t0 = np.linspace(0, sol.t[-1],1000)\n",
    "t1 = np.linspace(0, sol_nodm.t[-1],1000)\n",
    "\n",
    "plt.plot(t0 , sol.sol(t0)[0] / risco, label=\"With DM\")\n",
    "plt.plot(t1, sol_nodm.sol(t1)[0] / risco, label = \"Without DM\")\n",
    "plt.legend()\n",
    "plt.ylabel(\" $r(t) \\; / \\; r_{isco} $\", fontsize=14)\n",
    "plt.xlabel(\"Time (s)\", fontsize=14)\n",
    "plt.yscale('log')\n",
    "plt.xscale('log')"
   ]
  },
  {
   "cell_type": "markdown",
   "id": "5cadce2c",
   "metadata": {},
   "source": [
    "## Final frequency"
   ]
  },
  {
   "cell_type": "code",
   "execution_count": 101,
   "id": "edad2315",
   "metadata": {},
   "outputs": [
    {
     "data": {
      "text/latex": [
       "$13.821037 \\; \\mathrm{}$"
      ],
      "text/plain": [
       "<Quantity 13.82103727>"
      ]
     },
     "execution_count": 101,
     "metadata": {},
     "output_type": "execute_result"
    }
   ],
   "source": [
    "a_dm =  sol.sol(t0)[0][-1]\n",
    "fmax = fend(a_dm * u.m) * u.s\n",
    "fmax\n"
   ]
  },
  {
   "cell_type": "code",
   "execution_count": 102,
   "id": "f7424ecb",
   "metadata": {},
   "outputs": [],
   "source": [
    "#manually putting the lisa f_max\n",
    "fmax = 1e0 "
   ]
  },
  {
   "cell_type": "code",
   "execution_count": 103,
   "id": "d298510f",
   "metadata": {},
   "outputs": [],
   "source": [
    "N_dm = quad(fgw, fmin , fmax )[0]\n",
    "N_nodm = quad(fgw_nodm, fmin , fmax )[0]"
   ]
  },
  {
   "cell_type": "code",
   "execution_count": 105,
   "id": "23e3aec4",
   "metadata": {},
   "outputs": [
    {
     "data": {
      "text/plain": [
       "139070958733.6507"
      ]
     },
     "execution_count": 105,
     "metadata": {},
     "output_type": "execute_result"
    }
   ],
   "source": [
    "N_diff = N_nodm  - N_dm \n",
    "N_diff"
   ]
  },
  {
   "cell_type": "markdown",
   "id": "7fd4d165",
   "metadata": {},
   "source": [
    "Fitting for an observational time of 2-4yrs"
   ]
  },
  {
   "cell_type": "code",
   "execution_count": 106,
   "id": "353dd292",
   "metadata": {},
   "outputs": [
    {
     "data": {
      "text/plain": [
       "  message: The solver successfully reached the end of the integration interval.\n",
       "  success: True\n",
       "   status: 0\n",
       "        t: [ 0.000e+00  1.000e-04 ...  1.111e+07  6.308e+07]\n",
       "        y: [[ 8.100e+09  8.100e+09 ...  8.091e+09  8.051e+09]]\n",
       "      sol: <scipy.integrate._ivp.common.OdeSolution object at 0x0000022CBC1C3910>\n",
       " t_events: [array([], dtype=float64)]\n",
       " y_events: [array([], dtype=float64)]\n",
       "     nfev: 80\n",
       "     njev: 0\n",
       "      nlu: 0"
      ]
     },
     "execution_count": 106,
     "metadata": {},
     "output_type": "execute_result"
    }
   ],
   "source": [
    "tend = yr2s * 2 /u.s #evolving for 4 years and removing the units (seconds)\n",
    "\n",
    "sol_nodm = solve_ivp(dadt_nodm, [0, tend], [a0 / u.m], dense_output=True, events=terminator, method = 'RK45' , atol=1e-6, rtol=1e-5)\n",
    "sol = solve_ivp(dadt,[0, tend], [a0 / u.m], dense_output=True, events=terminator, method = 'RK45' , atol=1e-6, rtol=1e-5)\n",
    "sol"
   ]
  },
  {
   "cell_type": "code",
   "execution_count": 107,
   "id": "86325cd0",
   "metadata": {},
   "outputs": [
    {
     "data": {
      "image/png": "[encoded data removed]",
      "text/plain": [
       "<Figure size 1000x800 with 1 Axes>"
      ]
     },
     "metadata": {},
     "output_type": "display_data"
    }
   ],
   "source": [
    "plt.figure(figsize=(10,8))\n",
    "\n",
    "t0 = np.linspace(0, sol.t[-1],1000)\n",
    "t1 = np.linspace(0, sol_nodm.t[-1],1000)\n",
    "\n",
    "plt.plot(t0 , sol.sol(t0)[0] / risco, label=\"With DM\")\n",
    "plt.plot(t1, sol_nodm.sol(t1)[0] / risco, label = \"Without DM\")\n",
    "plt.legend()\n",
    "plt.ylabel(\" $r(t) \\; / \\; r_{isco} $\", fontsize=14)\n",
    "plt.xlabel(\"Time (s)\", fontsize=14)\n",
    "plt.yscale('log')\n",
    "plt.xscale('log')"
   ]
  },
  {
   "cell_type": "code",
   "execution_count": 108,
   "id": "84f33912",
   "metadata": {},
   "outputs": [
    {
     "data": {
      "text/latex": [
       "$0.00050456735 \\; \\mathrm{}$"
      ],
      "text/plain": [
       "<Quantity 0.00050457>"
      ]
     },
     "execution_count": 108,
     "metadata": {},
     "output_type": "execute_result"
    }
   ],
   "source": [
    "a_dm =  sol.sol(t0)[0][-1]\n",
    "a_nodm =  sol_nodm.sol(t1)[0][-1]\n",
    "fmax_dm = fend(a_dm * u.m) * u.s\n",
    "fmax_nodm = fend(a_nodm * u.m) * u.s\n",
    "fmax_dm"
   ]
  },
  {
   "cell_type": "code",
   "execution_count": 114,
   "id": "a1dc1f70",
   "metadata": {},
   "outputs": [
    {
     "data": {
      "text/latex": [
       "$0.00050456735 \\; \\mathrm{}$"
      ],
      "text/plain": [
       "<Quantity 0.00050457>"
      ]
     },
     "execution_count": 114,
     "metadata": {},
     "output_type": "execute_result"
    }
   ],
   "source": [
    "fmax_dm"
   ]
  },
  {
   "cell_type": "code",
   "execution_count": 157,
   "id": "1d4f0698",
   "metadata": {},
   "outputs": [],
   "source": [
    "fmax_nodm = 0.001000000001"
   ]
  },
  {
   "cell_type": "code",
   "execution_count": 158,
   "id": "8ff3faae",
   "metadata": {},
   "outputs": [
    {
     "data": {
      "text/plain": [
       "0.001"
      ]
     },
     "execution_count": 158,
     "metadata": {},
     "output_type": "execute_result"
    }
   ],
   "source": [
    "fmin"
   ]
  },
  {
   "cell_type": "code",
   "execution_count": 159,
   "id": "2b694c88",
   "metadata": {},
   "outputs": [],
   "source": [
    "N_dm = quad(fgw, fmin , fmax_nodm )[0]\n",
    "N_nodm = quad(fgw_nodm, fmin , fmax_nodm)[0]"
   ]
  },
  {
   "cell_type": "code",
   "execution_count": 160,
   "id": "8b40610c",
   "metadata": {},
   "outputs": [
    {
     "data": {
      "text/plain": [
       "232.00351043692524"
      ]
     },
     "execution_count": 160,
     "metadata": {},
     "output_type": "execute_result"
    }
   ],
   "source": [
    "N_diff = N_nodm  - N_dm \n",
    "N_diff"
   ]
  },
  {
   "cell_type": "code",
   "execution_count": 117,
   "id": "89c467a0",
   "metadata": {},
   "outputs": [
    {
     "data": {
      "text/plain": [
       "302741761014.53467"
      ]
     },
     "execution_count": 117,
     "metadata": {},
     "output_type": "execute_result"
    }
   ],
   "source": [
    "N_diff = N_dm - N_nodm \n",
    "N_diff"
   ]
  },
  {
   "cell_type": "code",
   "execution_count": 55,
   "id": "76adef5a",
   "metadata": {},
   "outputs": [],
   "source": [
    "#creating an aray of frequencies and storage for DM/no DM effects\n",
    "n = 100 #number of elements\n",
    "\n",
    "gw_freq = np.linspace(fmin, fmax,n)\n",
    "N_freq_dm = np.linspace(fmin, fmax,n)\n",
    "N_freq_nodm = np.linspace(fmin, fmax,n)\n",
    "\n",
    "for i in range(n):\n",
    "    N_freq_dm[i] = quad(fgw, fmin , gw_freq[i] )[0]\n",
    "    N_freq_nodm[i] = quad(fgw_nodm, fmin , gw_freq[i] )[0]"
   ]
  },
  {
   "cell_type": "code",
   "execution_count": null,
   "id": "cff6c5ba",
   "metadata": {},
   "outputs": [],
   "source": []
  }
 ],
 "metadata": {
  "kernelspec": {
   "display_name": "Python 3 (ipykernel)",
   "language": "python",
   "name": "python3"
  },
  "language_info": {
   "codemirror_mode": {
    "name": "ipython",
    "version": 3
   },
   "file_extension": ".py",
   "mimetype": "text/x-python",
   "name": "python",
   "nbconvert_exporter": "python",
   "pygments_lexer": "ipython3",
   "version": "3.8.16"
  }
 },
 "nbformat": 4,
 "nbformat_minor": 5
}
