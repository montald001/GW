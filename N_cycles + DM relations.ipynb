{
 "cells": [
  {
   "cell_type": "markdown",
   "id": "25bda52e",
   "metadata": {},
   "source": [
    "## GW analysis with DM effects"
   ]
  },
  {
   "cell_type": "code",
   "execution_count": 1,
   "id": "12d4cb46",
   "metadata": {},
   "outputs": [],
   "source": [
    "import numpy as np\n",
    "import matplotlib.pyplot as plt\n",
    "from astropy import units as u\n",
    "from astropy import constants as const"
   ]
  },
  {
   "cell_type": "markdown",
   "id": "335a45ec",
   "metadata": {},
   "source": [
    "Let $m_1$ and $m_2$ note the masses of the binary system that is inspiraling in the prescence of dark matter. Let $\\phi$ and $r$ denote the orbital phase and separation, respectively. Then, the follwoing relations can be obtained"
   ]
  },
  {
   "cell_type": "markdown",
   "id": "a049ef63",
   "metadata": {},
   "source": [
    "### Orbital relations [1]"
   ]
  },
  {
   "cell_type": "markdown",
   "id": "28e738e2",
   "metadata": {},
   "source": [
    "## $(1) \\quad \\mu = \\frac{m_1 m_2}{m_1 + m_2}, \\quad m = m_1 + m_2$"
   ]
  },
  {
   "cell_type": "markdown",
   "id": "7ca0aeb7",
   "metadata": {},
   "source": [
    "## $(2) \\quad r = \\frac{a(1-e^2)}{(1+e\\cos{\\phi})} \\to a$"
   ]
  },
  {
   "cell_type": "markdown",
   "id": "dba21543",
   "metadata": {},
   "source": [
    "## $(3) \\quad \\dot{\\phi} = \\frac{ \\big( G  mR  \\big)^{1/2}}{r^2},  \\: R = r (1+e\\cos{\\phi}), \\quad \\to \\quad \\dot{\\phi} = \\big( \\frac{Gm}{a^3}\\big)^{1/2} (1-e^2)^{-3/2} (1 + e\\cos{\\phi})^2$"
   ]
  },
  {
   "cell_type": "markdown",
   "id": "13bd6f85",
   "metadata": {},
   "source": [
    "## $\\quad \\dot{\\phi} = \\big( \\frac{Gm}{a^3}\\big)^{1/2} \\quad \\to \\quad a = \\big(\\frac{Gm}{\\dot{\\phi}^2}\\big)^{1/3}$"
   ]
  },
  {
   "cell_type": "markdown",
   "id": "4e330246",
   "metadata": {},
   "source": [
    "## Dark matter relations [2][3]"
   ]
  },
  {
   "cell_type": "markdown",
   "id": "1a58ee50",
   "metadata": {},
   "source": [
    "\n",
    "## $(4) \\quad \\rho_{\\mathrm{spike}}(r)= \\begin{cases}0 & \\text { for } r \\leqslant 2 R_s \\\\ \n",
    "\\rho_{sp}\\left(\\frac{r}{r_{\\mathrm{sp}}}\\right)^{-\\gamma} & \\text { for } 2 R_s<r \\leqslant r_{\\mathrm{sp}}, \n",
    "\\\\ \\rho_{\\text{NFW}}(r) & \\text { for } r>r_{\\mathrm{sp}}\\end{cases} \\qquad r_{\\text{sp}} \\approx \\Big[ \\frac{(3-\\gamma)(0.2)^{3-\\gamma}M_{BH}}{2 \\pi \\rho_{sp}} \\Big]^{1/3} $"
   ]
  },
  {
   "cell_type": "markdown",
   "id": "346c64ba",
   "metadata": {},
   "source": [
    "## $(5) \\quad \\frac{dE_{DM}}{dt} = -\\frac{4 \\pi G^2 \\mu^2 \\rho_{DM}(r) \\ln{\\Lambda}}{v}, \\quad v = (\\dot{r}^2 + r^2 \\dot{\\phi}^2)^{1/2}, \\quad \\Lambda = \\sqrt{m_1 / m_2}$"
   ]
  },
  {
   "cell_type": "markdown",
   "id": "0af31df4",
   "metadata": {},
   "source": [
    "### Gravitational wave relations [1]"
   ]
  },
  {
   "cell_type": "markdown",
   "id": "291e18b5",
   "metadata": {},
   "source": [
    "## $(6) \\quad N_{cyc} = \\int_{t_{min}}^{t_{max}} f_{GW}(t) dt = \\int_{f_{min}}^{f_{max}} df_{GW} \\frac{f_{GW}}{\\dot{f}_{GW}}$"
   ]
  },
  {
   "cell_type": "markdown",
   "id": "19bb385e",
   "metadata": {},
   "source": [
    "## $(6) \\quad N_{cyc} = \\int_{t_{min}}^{t_{max}} f_{GW}(t) dt = \\int_{f_{min}}^{f_{max}} df_{GW} \\frac{f_{GW}}{\\dot{f}_{GW}}$"
   ]
  },
  {
   "cell_type": "markdown",
   "id": "908741db",
   "metadata": {},
   "source": [
    "With a good approximation being $f_{min}$ as the detector's minimum sensitivity, and $f_{max}$ being the final frequency before coalescence.\n",
    "For LIGO, we could assume $f_{min} = 10$ Hz"
   ]
  },
  {
   "cell_type": "markdown",
   "id": "88de912e",
   "metadata": {},
   "source": [
    "The total orbital energy is given by:"
   ]
  },
  {
   "cell_type": "markdown",
   "id": "0755caa5",
   "metadata": {},
   "source": [
    "## $(7) \\quad E_{orb} = -\\frac{Gm \\mu} { 2a}, \\quad \\frac{dE_{orb}}{da} = \\frac{Gm \\mu}{2a^2}$"
   ]
  },
  {
   "cell_type": "markdown",
   "id": "2ed2a2a7",
   "metadata": {},
   "source": [
    "with time evolution as"
   ]
  },
  {
   "cell_type": "markdown",
   "id": "e6ab7d62",
   "metadata": {},
   "source": [
    "## $ (8) \\quad \\frac{\\mathrm{d} E_{\\mathrm{orb}}}{\\mathrm{d} t}=\\left\\langle\\frac{\\mathrm{d} E_{\\mathrm{GW}}}{\\mathrm{d} t}\\right\\rangle+\\left\\langle\\frac{\\mathrm{d} E_{\\mathrm{DM}}}{\\mathrm{d} t}\\right\\rangle$"
   ]
  },
  {
   "cell_type": "markdown",
   "id": "29e3012e",
   "metadata": {},
   "source": [
    "## $(9) \\quad \\left\\langle\\frac{\\mathrm{d} E_{\\mathrm{gw}}}{\\mathrm{d} t}\\right\\rangle=-\\frac{32}{5} \\frac{G^4 \\mu^2 m^3}{c^5 a^5} \\frac{1+\\frac{73}{24} e^2+\\frac{37}{96} e^4}{\\left(1-e^2\\right)^{7 / 2}} \\to-\\frac{32}{5} \\frac{G^4 \\mu^2 m^3}{c^5 a^5}$"
   ]
  },
  {
   "cell_type": "markdown",
   "id": "f62f84ce",
   "metadata": {},
   "source": [
    "##  $(10) \\quad \\left\\langle\\frac{\\mathrm{d} E_{DM}}{\\mathrm{~d} t}\\right\\rangle=\\int_0^T \\frac{\\mathrm{d} t}{T} \\frac{\\mathrm{d} E_{DM}}{\\mathrm{~d} t} =\\left(1-e^2\\right)^{\\frac{3}{2}} \\int_0^{2 \\pi} \\frac{\\mathrm{d} \\phi}{2 \\pi} \\frac{\\frac{dE_{DM}(r(\\phi), v(\\phi))}{dt}}{(1+e \\cos \\phi)^2} = \\int_0^{2 \\pi} \\frac{\\mathrm{d} \\phi}{2 \\pi} \\frac{dE_{DM}(r(\\phi), v(\\phi))}{dt}$"
   ]
  },
  {
   "cell_type": "markdown",
   "id": "e54e1632",
   "metadata": {},
   "source": [
    "This would now imply that for the total orbital energy evolution we can find"
   ]
  },
  {
   "cell_type": "markdown",
   "id": "b4c9419e",
   "metadata": {},
   "source": [
    "## $(11) \\quad \\frac{dr}{dt} = \\frac{da}{dt} = \\frac{dE_{orb}}{dt} \\cdot \\frac{da}{dE_{orb}} = \\frac{2a^2}{G m \\mu} \\Big( \n",
    "-\\frac{32}{5} \\frac{G^4 \\mu^2 m^3}{c^5 a^5}\n",
    " -\\frac{4 \\pi G^2 \\mu^2 \\rho_{DM}(a) \\ln{\\Lambda}}{v}\n",
    " \\Big)$"
   ]
  },
  {
   "cell_type": "markdown",
   "id": "883a6a69",
   "metadata": {},
   "source": [
    "Using the approximation that"
   ]
  },
  {
   "cell_type": "markdown",
   "id": "ae9621b5",
   "metadata": {},
   "source": [
    "## $f_{GW} = 2 f_{orb} = 2 \\dot{\\phi} =2 \\big( \\frac{Gm}{a^3}\\big)^{1/2} $"
   ]
  },
  {
   "cell_type": "markdown",
   "id": "9c6d0524",
   "metadata": {},
   "source": [
    "## $\\dot{f}_{GW} = 2 \\dot{f}_{orb} = 2 \\ddot{\\phi} =-3 a^{-1}\\big( \\frac{Gm}{a^3}\\big)^{1/2} \\frac{da}{dt} = -3 \\big(\\frac{Gm}{f_{orb}^2}\\big)^{-1/3} f_{orb} \\frac{da}{dt} = -3 (Gm)^{-1/3} f^{5/3}_{orb} \\frac{da}{dt}$"
   ]
  },
  {
   "cell_type": "markdown",
   "id": "4ff267fe",
   "metadata": {},
   "source": [
    "## $\\dot{f}_{GW} = -3 (Gm)^{-1/3} (\\frac{f_{GW}}{2} )^{5/3} \\frac{da}{dt}$"
   ]
  },
  {
   "cell_type": "code",
   "execution_count": 1,
   "id": "c868d351",
   "metadata": {},
   "outputs": [
    {
     "data": {
      "text/plain": [
       "-0.6666666666666667"
      ]
     },
     "execution_count": 1,
     "metadata": {},
     "output_type": "execute_result"
    }
   ],
   "source": [
    "1-5/3"
   ]
  },
  {
   "cell_type": "markdown",
   "id": "5677c611",
   "metadata": {},
   "source": [
    "Some numerical results:"
   ]
  },
  {
   "cell_type": "code",
   "execution_count": 2,
   "id": "4f518aed",
   "metadata": {},
   "outputs": [],
   "source": [
    "from scipy.integrate import solve_ivp, quad"
   ]
  },
  {
   "cell_type": "markdown",
   "id": "01aea9bd",
   "metadata": {},
   "source": [
    "From [1] we see that for a quasi-circular orbit the time to coalesce (end time and $f_{max}$ that we will reach) is given by:"
   ]
  },
  {
   "cell_type": "markdown",
   "id": "4413ffe9",
   "metadata": {},
   "source": [
    "## $(12) \\quad t_{coal} = \\frac{5}{256} \\frac{c^5 a_0^4}{G^3 m^2 \\mu}$"
   ]
  },
  {
   "cell_type": "code",
   "execution_count": 3,
   "id": "7585ebf0",
   "metadata": {},
   "outputs": [],
   "source": [
    "# Define some useful constants and relations\n",
    "G = const.G\n",
    "c = const.c\n",
    "\n",
    "#conversion factors\n",
    "m2pc = u.pc / const.pc\n",
    "solar2kg = const.M_sun / u.M_sun\n",
    "s2hr = u.hour / u.s / (60*60) "
   ]
  },
  {
   "cell_type": "code",
   "execution_count": 5,
   "id": "447f3440",
   "metadata": {},
   "outputs": [
    {
     "data": {
      "text/plain": [
       "11.512925464970229"
      ]
     },
     "execution_count": 5,
     "metadata": {},
     "output_type": "execute_result"
    }
   ],
   "source": [
    "np.log(1e5)"
   ]
  },
  {
   "cell_type": "code",
   "execution_count": 4,
   "id": "81a302bf",
   "metadata": {},
   "outputs": [
    {
     "name": "stdout",
     "output_type": "stream",
     "text": [
      "For a binary with masses (solar masses) M1: 99.99999999999999, and M2: 1.4, and separation of 8859.750 km (10.000 risco)\n",
      "will have a coalescing time of\n"
     ]
    },
    {
     "data": {
      "text/latex": [
       "$8782.5084 \\; \\mathrm{s}$"
      ],
      "text/plain": [
       "<Quantity 8782.50842577 s>"
      ]
     },
     "execution_count": 4,
     "metadata": {},
     "output_type": "execute_result"
    }
   ],
   "source": [
    "#define the initial parameters of the system (masses and initial semimajor axis)\n",
    "m1 = 1 * const.M_sun\n",
    "m2 = 1 * const.M_sun\n",
    "\n",
    "risco = 6 * G * m1 / c**2\n",
    "a0 = 10 * risco\n",
    "\n",
    "\n",
    "print('For a binary with masses (solar masses) M1: ' + str(m1 / const.M_sun) + str(\", and M2: \") + str(m2 / const.M_sun) + \", and separation of \" + '{:.3f}'.format(a0 / 1000 /u.m) + str(' km (') +   '{:.3f}'.format(a0 / risco) + str(' risco)')       )\n",
    "print('will have a coalescing time of')\n",
    "m = m1 + m2\n",
    "mu = m1*m2 / (m)\n",
    "\n",
    "tcoal = 5/256 * const.c**5 * a0**4 / ( const.G**3 * m**2 * mu )\n",
    "tcoal"
   ]
  },
  {
   "cell_type": "code",
   "execution_count": 5,
   "id": "ab7edb42",
   "metadata": {},
   "outputs": [
    {
     "data": {
      "text/latex": [
       "$2.4395857 \\; \\mathrm{h}$"
      ],
      "text/plain": [
       "<Quantity 2.43958567 h>"
      ]
     },
     "execution_count": 5,
     "metadata": {},
     "output_type": "execute_result"
    }
   ],
   "source": [
    "tcoal * s2hr"
   ]
  },
  {
   "cell_type": "code",
   "execution_count": 6,
   "id": "6c146e52",
   "metadata": {},
   "outputs": [
    {
     "name": "stdout",
     "output_type": "stream",
     "text": [
      "The masse of m_1 (solar mass) is:  99.99999999999999\n",
      "Which has a Schwarzschild radius of (for m_1) 295.32500761002495 (km)\n",
      "The masse of m_1 (solar mass) is:  1.4\n",
      "Which has a Schwarzschild radius of (for m_2) 4.134550106540349 (km)\n",
      "Mass ratio:  71.42857142857143\n",
      "They will start evolving from :10.0 (risco) or 8859.750228300749 (km)\n",
      "They will stop evolving at 1 risco which is 885.9750228300749 (km)\n"
     ]
    }
   ],
   "source": [
    "print(\"The masse of m_1 (solar mass) is: \", m1 / const.M_sun)\n",
    "print(\"Which has a Schwarzschild radius of (for m_1) \" + str( 2 * G * m1 / c**2 / u.m / 1e3 ) + \" (km)\")\n",
    "print(\"The masse of m_1 (solar mass) is: \", m2 / const.M_sun)\n",
    "print(\"Which has a Schwarzschild radius of (for m_2) \" + str( 2 * G * m2 / c**2 / u.m / 1e3 ) + \" (km)\")\n",
    "print(\"Mass ratio: \", m1/m2)\n",
    "print(\"They will start evolving from :\" + str( a0/risco) + \" (risco) or \" + str(a0 / 1e3 /  u.m) + \" (km)\" )\n",
    "print(\"They will stop evolving at 1 risco which is \" + str(risco / 1e3 /  u.m) + \" (km)\" )"
   ]
  },
  {
   "cell_type": "code",
   "execution_count": 7,
   "id": "8566f3d2",
   "metadata": {},
   "outputs": [],
   "source": [
    "#DM side\n",
    "gamma = 7/3  #spike coefficient (7/4 for Self interacting dark matter and 9/4 for primordial black holes)\n",
    "rhosp = 226 * u.M_sun / u.pc**3 #initial density in solar mass /pc^3"
   ]
  },
  {
   "cell_type": "code",
   "execution_count": 8,
   "id": "944f8e73",
   "metadata": {},
   "outputs": [],
   "source": [
    "#calculate rsp given Mbh in solar masses, rho_sp in solar masses/pc^3 and spike coefficient gamma\n",
    "#returns spike radius in pc\n",
    "def rsp(M, rho, gamma):\n",
    "    return 1.08e-1 * (  (3-gamma)**(1/3) * (0.2)**(-gamma/3) ) * (M/const.M_sun)**(1/3) * (rho /(u.M_sun / u.pc**3) ) **(-1/3) * u.pc"
   ]
  },
  {
   "cell_type": "code",
   "execution_count": 9,
   "id": "d0bc1106",
   "metadata": {},
   "outputs": [
    {
     "data": {
      "text/latex": [
       "$0.25138182 \\; \\mathrm{pc}$"
      ],
      "text/plain": [
       "<Quantity 0.25138182 pc>"
      ]
     },
     "execution_count": 9,
     "metadata": {},
     "output_type": "execute_result"
    }
   ],
   "source": [
    "rsp(m1,rhosp,gamma)"
   ]
  },
  {
   "cell_type": "code",
   "execution_count": 10,
   "id": "f2b64c54",
   "metadata": {},
   "outputs": [],
   "source": [
    "#calculate halo density given r in pc, rhosp in solar masses/pc^3 and m1 in solar masses\n",
    "#returns density in solar mass / pc^3\n",
    "\n",
    "def rho(r, rhosp, gamma, m1):\n",
    "    if (r < 4 * G * m1 / c**2 * m2pc):\n",
    "        return 0 * rhosp\n",
    "    else:\n",
    "        return rhosp * ( r / rsp(m1,rhosp,gamma)) **(-gamma)\n"
   ]
  },
  {
   "cell_type": "code",
   "execution_count": 11,
   "id": "6d5233ac",
   "metadata": {},
   "outputs": [],
   "source": [
    "r_display = np.geomspace(0.1, 100,1000) * risco\n",
    "rho_display = np.zeros(1000) * u.M_sun / (u.pc**3)\n",
    "\n",
    "for i in range(0,1000):\n",
    "    rho_display[i] = rho(r_display[i] * m2pc, rhosp, gamma, m1)\n"
   ]
  },
  {
   "cell_type": "code",
   "execution_count": 14,
   "id": "d6a5b0a8",
   "metadata": {},
   "outputs": [
    {
     "data": {
      "text/plain": [
       "(0.5, <Quantity 300.>)"
      ]
     },
     "execution_count": 14,
     "metadata": {},
     "output_type": "execute_result"
    },
    {
     "data": {
      "image/png": "[encoded data removed]",
      "text/plain": [
       "<Figure size 1000x800 with 1 Axes>"
      ]
     },
     "metadata": {},
     "output_type": "display_data"
    }
   ],
   "source": [
    "plt.figure(figsize=(10,8))\n",
    "plt.loglog(r_display / (2*G*m1 / c**2),rho_display, label = 'Dark matter density $\\\\rho(r)$')\n",
    "plt.axvline(x=2, color='red', ls='--', lw=3, label='Inner spike radius ($\\\\frac{4GM_1}{c^2}$)')\n",
    "plt.axvline(x=1, color='blue', ls='--', lw=3, label='Schwarzschild radius ($\\\\frac{2GM_1}{c^2}$)')\n",
    "plt.ylabel('Dark Matter density  ($M_{\\odot} / pc^3$)', fontsize=14)\n",
    "plt.xlabel('Binary Radial distance  ($\\\\frac{2GM_1}{c^2}$)', fontsize=14)\n",
    "plt.legend(fontsize=14)\n",
    "plt.xlim([0.5,max(r_display / (2*G*m1 / c**2))])"
   ]
  },
  {
   "cell_type": "code",
   "execution_count": 15,
   "id": "0f4bbe2d",
   "metadata": {},
   "outputs": [],
   "source": [
    "#Function to calculate the radial decay due to GW and DM energy loss\n",
    "#time is given in seconds (although no astropy units are explicilty used as the \n",
    "#numerical solver sin't compatible with those objects)\n",
    "\n",
    "def dadt(t, a0 ):\n",
    "    \n",
    "    a = a0*u.m\n",
    "    l_log = np.log(m1 / m2) / 2\n",
    "    \n",
    "    phi = np.sqrt( G * m / a**3  )\n",
    "    v  = np.sqrt( G * m  / a )      #from virial theorem K = -1/2 U -> 1/2 m v^2 = G m / 2a \n",
    "    \n",
    "    return -2*a**2 / (G * m * mu) * (  32/5 * G**4 * mu**2 * m**3 / (c**5 * a**5) \n",
    "                                     + 4*np.pi*G**2 * mu**2 * rho(a * m2pc , rhosp, gamma, m1) * l_log / v * solar2kg *m2pc**3 ) *u.s / u.m\n",
    "\n",
    "#This returns the overal orbital decay dr/dt in units of m/s (that's why they're removed at the end as \n",
    "#to be compatitble with the numerical solver)"
   ]
  },
  {
   "cell_type": "code",
   "execution_count": 16,
   "id": "4957468d",
   "metadata": {},
   "outputs": [],
   "source": [
    "#Function to calculate the radial decay due to GW energy loss\n",
    "#time is given in seconds (although no astropy units are explicilty used as the \n",
    "#numerical solver sin't compatible with those objects)\n",
    "\n",
    "def dadt_nodm(t, a0 ):\n",
    "    \n",
    "    a = a0*u.m\n",
    "    l_log = np.log(m1 / m2) / 2\n",
    "    \n",
    "    phi = np.sqrt( G * m / a**3  )\n",
    "    v  = np.sqrt( G * m  / a )      #from virial theorem K = -1/2 U -> 1/2 m v^2 = G m / 2a \n",
    "    \n",
    "    return -2*a**2 / (G * m * mu) * (  32/5 * G**4 * mu**2 * m**3 / (c**5 * a**5) ) *u.s / u.m\n",
    "\n",
    "#This returns the overal orbital decay dr/dt in units of m/s (that's why they're removed at the end as \n",
    "#to be compatitble with the numerical solver)"
   ]
  },
  {
   "cell_type": "code",
   "execution_count": 17,
   "id": "e5b9ebe0",
   "metadata": {},
   "outputs": [],
   "source": [
    "#function to terminate the evolution when the binary has a separation of about 1 risco\n",
    "def terminator(t, a):\n",
    "    return a - 6*const.G * m1 / const.c**2 /u.m\n",
    "\n",
    "terminator.terminal = True"
   ]
  },
  {
   "cell_type": "code",
   "execution_count": 18,
   "id": "0168df26",
   "metadata": {
    "scrolled": true
   },
   "outputs": [
    {
     "data": {
      "text/plain": [
       "  message: A termination event occurred.\n",
       "  success: True\n",
       "   status: 1\n",
       "        t: [ 0.000e+00  3.227e-01 ...  8.760e+03  8.760e+03]\n",
       "        y: [[ 8.860e+06  8.860e+06 ...  9.644e+05  8.860e+05]]\n",
       "      sol: <scipy.integrate._ivp.common.OdeSolution object at 0x000002046BB83760>\n",
       " t_events: [array([ 8.760e+03])]\n",
       " y_events: [array([[ 8.860e+05]])]\n",
       "     nfev: 248\n",
       "     njev: 0\n",
       "      nlu: 0"
      ]
     },
     "execution_count": 18,
     "metadata": {},
     "output_type": "execute_result"
    }
   ],
   "source": [
    "#Numerically solve for the evolution of the binary\n",
    "\n",
    "sol_nodm = solve_ivp(dadt_nodm, [0, tcoal*10 / u.s], [a0 / u.m], dense_output=True, events=terminator, method = 'RK45' , atol=1e-6, rtol=1e-5)\n",
    "sol = solve_ivp(dadt,[0, tcoal*10 / u.s], [a0 / u.m], dense_output=True, events=terminator, method = 'RK45' , atol=1e-6, rtol=1e-5)\n",
    "sol"
   ]
  },
  {
   "cell_type": "markdown",
   "id": "c4d085b0",
   "metadata": {},
   "source": [
    "## Semimajor axis vs time plot"
   ]
  },
  {
   "cell_type": "code",
   "execution_count": 19,
   "id": "5604c3db",
   "metadata": {},
   "outputs": [
    {
     "data": {
      "image/png": "[encoded data removed]",
      "text/plain": [
       "<Figure size 1000x800 with 1 Axes>"
      ]
     },
     "metadata": {},
     "output_type": "display_data"
    }
   ],
   "source": [
    "plt.figure(figsize=(10,8))\n",
    "\n",
    "t0 = np.linspace(0, sol.t[-1],1000)\n",
    "t1 = np.linspace(0, sol_nodm.t[-1],1000)\n",
    "\n",
    "plt.plot(t0 , sol.sol(t0)[0] / risco, label=\"With DM\")\n",
    "plt.plot(t1, sol_nodm.sol(t1)[0] / risco, label = \"Without DM\")\n",
    "plt.legend()\n",
    "plt.ylabel(\" $r(t) \\; / \\; r_{isco} $\", fontsize=14)\n",
    "plt.xlabel(\"Time (s)\", fontsize=14)\n",
    "plt.yscale('log')\n"
   ]
  },
  {
   "cell_type": "markdown",
   "id": "5ec8eb24",
   "metadata": {},
   "source": [
    "## Final time in which both systems got to $r_{ISCO}$"
   ]
  },
  {
   "cell_type": "markdown",
   "id": "62bf588e",
   "metadata": {},
   "source": [
    "with dark matter"
   ]
  },
  {
   "cell_type": "code",
   "execution_count": 20,
   "id": "69658672",
   "metadata": {},
   "outputs": [
    {
     "data": {
      "text/latex": [
       "$2.4334173 \\; \\mathrm{h}$"
      ],
      "text/plain": [
       "<Quantity 2.43341734 h>"
      ]
     },
     "execution_count": 20,
     "metadata": {},
     "output_type": "execute_result"
    }
   ],
   "source": [
    "sol.t[-1] * s2hr * u.s"
   ]
  },
  {
   "cell_type": "markdown",
   "id": "b072fa3e",
   "metadata": {},
   "source": [
    "no dark matter"
   ]
  },
  {
   "cell_type": "code",
   "execution_count": 21,
   "id": "14ea8379",
   "metadata": {},
   "outputs": [
    {
     "data": {
      "text/latex": [
       "$2.4393451 \\; \\mathrm{h}$"
      ],
      "text/plain": [
       "<Quantity 2.43934508 h>"
      ]
     },
     "execution_count": 21,
     "metadata": {},
     "output_type": "execute_result"
    }
   ],
   "source": [
    "sol_nodm.t[-1] * s2hr * u.s"
   ]
  },
  {
   "cell_type": "markdown",
   "id": "e6efec13",
   "metadata": {},
   "source": [
    "## Final frequency"
   ]
  },
  {
   "cell_type": "code",
   "execution_count": 22,
   "id": "fb5070eb",
   "metadata": {},
   "outputs": [],
   "source": [
    "def fend(a):\n",
    "    return np.sqrt( const.G * m / a**3)"
   ]
  },
  {
   "cell_type": "code",
   "execution_count": 23,
   "id": "1672be5f",
   "metadata": {},
   "outputs": [
    {
     "data": {
      "text/latex": [
       "$139.10495 \\; \\mathrm{\\frac{1}{s}}$"
      ],
      "text/plain": [
       "<Quantity 139.1049475 1 / s>"
      ]
     },
     "execution_count": 23,
     "metadata": {},
     "output_type": "execute_result"
    }
   ],
   "source": [
    "a_dm =  sol.sol(t0)[0][-1]\n",
    "fend(a_dm * u.m)"
   ]
  },
  {
   "cell_type": "markdown",
   "id": "811c6c92",
   "metadata": {},
   "source": [
    "### Computing the number of cycles\n",
    "\n",
    "Functions to compute \n",
    "\n",
    "## $\\frac{f_{GW}}{\\dot{f}_{GW}}$\n",
    "\n",
    "As a function of orbital frequency"
   ]
  },
  {
   "cell_type": "code",
   "execution_count": 24,
   "id": "8f9c6309",
   "metadata": {},
   "outputs": [],
   "source": [
    "#Functions to that compute f_gw / dot(f)_gw as a function of the given gravitaitonal wave frequency f_gw\n",
    "#The input (f0) is in Hz without astropy units to avoid conflicts with the numerical solver\n",
    "\n",
    "#for a system without dark matter\n",
    "def fgw_nodm(f0):\n",
    "    #computing the orbital frequency\n",
    "    forb = f0 / 2 / u.s\n",
    "    #computing semimajor axis from the orbital frequency\n",
    "    a = ( const.G * m / (forb)**2) **(1/3)  \n",
    "    #computing the decay in semimajor axis\n",
    "    da = dadt_nodm(0, a / u.m )\n",
    "    \n",
    "    #computing fdot\n",
    "    fdot = -3 * (G * m) **(-1/3) * (forb)**(5/3) * (da * u.m / u.s) \n",
    "    #removing the units for fdot\n",
    "    fdot = fdot * (u.s)**2\n",
    "    #computing f_gw / dot(f)_gw\n",
    "    f_fdot = f0 / fdot\n",
    "    \n",
    "    return f_fdot\n",
    "\n",
    "#for a system with dark matter\n",
    "def fgw(f0):\n",
    "    #computing the orbital frequency\n",
    "    forb = f0 / 2 / u.s\n",
    "    #computing semimajor axis from the orbital frequency\n",
    "    a = ( const.G * m / (forb)**2) **(1/3)  \n",
    "    #computing the decay in semimajor axis\n",
    "    da = dadt(0, a / u.m )\n",
    "    \n",
    "    #computing fdot\n",
    "    fdot = -3 * (G * m) **(-1/3) * (forb)**(5/3) * (da * u.m / u.s) \n",
    "    #removing the units for fdot\n",
    "    fdot = fdot * (u.s)**2\n",
    "    #computing f_gw / dot(f)_gw\n",
    "    f_fdot = f0 / fdot\n",
    "    \n",
    "    return f_fdot"
   ]
  },
  {
   "cell_type": "markdown",
   "id": "a6cac56d",
   "metadata": {},
   "source": [
    "Recall now\n",
    "\n",
    "## $(6) \\quad N_{cyc} = \\int_{t_{min}}^{t_{max}} f_{GW}(t) dt = \\int_{f_{min}}^{f_{max}} df_{GW} \\frac{f_{GW}}{\\dot{f}_{GW}}$"
   ]
  },
  {
   "cell_type": "code",
   "execution_count": 25,
   "id": "ae4bfeea",
   "metadata": {},
   "outputs": [],
   "source": [
    "from scipy.integrate import quad"
   ]
  },
  {
   "cell_type": "code",
   "execution_count": 26,
   "id": "c1cca053",
   "metadata": {},
   "outputs": [
    {
     "data": {
      "text/latex": [
       "$139.10495 \\; \\mathrm{\\frac{1}{s}}$"
      ],
      "text/plain": [
       "<Quantity 139.1049475 1 / s>"
      ]
     },
     "execution_count": 26,
     "metadata": {},
     "output_type": "execute_result"
    }
   ],
   "source": [
    "#final frequency\n",
    "def fend(a):\n",
    "    return np.sqrt( const.G * m / a**3)\n",
    "\n",
    "#note this is simply 1 risco\n",
    "a_dm =  sol.sol(t0)[0][-1]\n",
    "fend(a_dm * u.m)"
   ]
  },
  {
   "cell_type": "code",
   "execution_count": 27,
   "id": "acc32bfe",
   "metadata": {},
   "outputs": [],
   "source": [
    "fmin = 10   #minimum frequency (in hz)\n",
    "fmax = fend(a_dm * u.m) * u.s  #max frequency (in hz, removing the stropy units)"
   ]
  },
  {
   "cell_type": "code",
   "execution_count": 28,
   "id": "dc2462fc",
   "metadata": {},
   "outputs": [],
   "source": [
    "#integrating the number of cycles with quad(integrand(f), f_initial, f_final)\n",
    "\n",
    "N_dm = quad(fgw, fmin , fmax )[0]\n",
    "N_nodm = quad(fgw_nodm, fmin , fmax )[0]"
   ]
  },
  {
   "cell_type": "markdown",
   "id": "14535b0b",
   "metadata": {},
   "source": [
    "difference between the number of cycles\n",
    "\n",
    "## $ N_{\\text{without darkmatter}} - N_{\\text{with dark matter}}$"
   ]
  },
  {
   "cell_type": "code",
   "execution_count": 29,
   "id": "0248a49a",
   "metadata": {},
   "outputs": [
    {
     "data": {
      "text/plain": [
       "146.4770285009581"
      ]
     },
     "execution_count": 29,
     "metadata": {},
     "output_type": "execute_result"
    }
   ],
   "source": [
    "N_diff = N_nodm - N_dm\n",
    "N_diff"
   ]
  },
  {
   "cell_type": "markdown",
   "id": "756d93c9",
   "metadata": {},
   "source": [
    "## Computing the number of cycles in radians"
   ]
  },
  {
   "cell_type": "code",
   "execution_count": 30,
   "id": "58456427",
   "metadata": {},
   "outputs": [
    {
     "data": {
      "text/plain": [
       "920.3423133165455"
      ]
     },
     "execution_count": 30,
     "metadata": {},
     "output_type": "execute_result"
    }
   ],
   "source": [
    "#Difference from dark matter / without dark matter in the number of cycles in radians\n",
    "N_diff * 2 * np.pi"
   ]
  },
  {
   "cell_type": "markdown",
   "id": "0fdeb288",
   "metadata": {},
   "source": [
    "## Number of cycles as a function of frequency"
   ]
  },
  {
   "cell_type": "code",
   "execution_count": 31,
   "id": "83767d2b",
   "metadata": {},
   "outputs": [],
   "source": [
    "#creating an aray of frequencies and storage for DM/no DM effects\n",
    "n = 100 #number of elements\n",
    "\n",
    "gw_freq = np.linspace(fmin, fmax,n)\n",
    "N_freq_dm = np.linspace(fmin, fmax,n)\n",
    "N_freq_nodm = np.linspace(fmin, fmax,n)\n",
    "\n",
    "for i in range(n):\n",
    "    N_freq_dm[i] = quad(fgw, fmin , gw_freq[i] )[0]\n",
    "    N_freq_nodm[i] = quad(fgw_nodm, fmin , gw_freq[i] )[0]\n"
   ]
  },
  {
   "cell_type": "code",
   "execution_count": 35,
   "id": "20827865",
   "metadata": {},
   "outputs": [
    {
     "data": {
      "text/plain": [
       "<matplotlib.legend.Legend at 0x2046ba5e580>"
      ]
     },
     "execution_count": 35,
     "metadata": {},
     "output_type": "execute_result"
    },
    {
     "data": {
      "image/png": "[encoded data removed]",
      "text/plain": [
       "<Figure size 640x480 with 1 Axes>"
      ]
     },
     "metadata": {},
     "output_type": "display_data"
    }
   ],
   "source": [
    "plt.plot(gw_freq , N_freq_nodm, lw =3, label = 'Without dark matter')\n",
    "plt.plot(gw_freq , N_freq_dm, lw =3, ls = '--', label = 'With dark matter')\n",
    "plt.xlabel('Frequency (Hz)')\n",
    "plt.ylabel('Number of cylces')\n",
    "plt.legend()"
   ]
  },
  {
   "cell_type": "code",
   "execution_count": 36,
   "id": "d8122787",
   "metadata": {},
   "outputs": [
    {
     "data": {
      "image/png": "[encoded data removed]",
      "text/plain": [
       "<Figure size 640x480 with 1 Axes>"
      ]
     },
     "metadata": {},
     "output_type": "display_data"
    }
   ],
   "source": [
    "plt.plot(gw_freq , N_freq_nodm, lw =3, label = 'Without dark matter')\n",
    "plt.plot(gw_freq , N_freq_dm, lw =3, ls = '--', label = 'With dark matter')\n",
    "plt.xlabel('Frequency (Hz)')\n",
    "plt.ylabel('Number of cylces')\n",
    "plt.legend()\n",
    "plt.yscale('log')"
   ]
  },
  {
   "cell_type": "code",
   "execution_count": 41,
   "id": "69904a35",
   "metadata": {},
   "outputs": [
    {
     "data": {
      "text/plain": [
       "Text(0, 0.5, 'Difference in the number of cylces (radians)')"
      ]
     },
     "execution_count": 41,
     "metadata": {},
     "output_type": "execute_result"
    },
    {
     "data": {
      "image/png": "[encoded data removed]",
      "text/plain": [
       "<Figure size 640x480 with 1 Axes>"
      ]
     },
     "metadata": {},
     "output_type": "display_data"
    }
   ],
   "source": [
    "plt.plot(gw_freq , (N_freq_nodm - N_freq_dm )*2*np.pi )\n",
    "plt.xlabel('Frequency (Hz)')\n",
    "plt.ylabel('Difference in the number of cylces (radians)')\n",
    "\n",
    "# plt.yscale('log')"
   ]
  },
  {
   "cell_type": "markdown",
   "id": "0c581bb0",
   "metadata": {},
   "source": [
    "## Bibliography"
   ]
  },
  {
   "cell_type": "markdown",
   "id": "c46072bc",
   "metadata": {},
   "source": [
    "[1] M. Maggiore, Gravitational Waves: Volume 1: Theory and Experiments, 1st ed. (Oxford\n",
    "University PressOxford, 2007).\n",
    "\n",
    "Dark matter model: \n",
    "\n",
    "https://arxiv.org/pdf/2002.12811.pdf\n",
    "\n",
    "https://arxiv.org/pdf/1408.3534.pdf\n",
    "\n",
    "Computing the DM effects on GW\n",
    "\n",
    "https://arxiv.org/pdf/2112.09586.pdf"
   ]
  },
  {
   "cell_type": "code",
   "execution_count": null,
   "id": "e5915cfb",
   "metadata": {},
   "outputs": [],
   "source": []
  },
  {
   "cell_type": "code",
   "execution_count": null,
   "id": "1510faba",
   "metadata": {},
   "outputs": [],
   "source": []
  },
  {
   "cell_type": "code",
   "execution_count": null,
   "id": "1a6f50cf",
   "metadata": {},
   "outputs": [],
   "source": []
  },
  {
   "cell_type": "code",
   "execution_count": null,
   "id": "3e88f50e",
   "metadata": {},
   "outputs": [],
   "source": []
  },
  {
   "cell_type": "code",
   "execution_count": null,
   "id": "1be6f406",
   "metadata": {},
   "outputs": [],
   "source": []
  },
  {
   "cell_type": "code",
   "execution_count": null,
   "id": "38980128",
   "metadata": {},
   "outputs": [],
   "source": []
  },
  {
   "cell_type": "code",
   "execution_count": null,
   "id": "2224db11",
   "metadata": {},
   "outputs": [],
   "source": []
  },
  {
   "cell_type": "code",
   "execution_count": null,
   "id": "49c96e7c",
   "metadata": {},
   "outputs": [],
   "source": []
  },
  {
   "cell_type": "code",
   "execution_count": 32,
   "id": "eeebceb7",
   "metadata": {},
   "outputs": [
    {
     "data": {
      "text/latex": [
       "$8.7108628 \\times 10^{-8} \\; \\mathrm{\\frac{s^{1/3}}{m}}$"
      ],
      "text/plain": [
       "<Quantity 8.71086276e-08 s(1/3) / m>"
      ]
     },
     "execution_count": 32,
     "metadata": {},
     "output_type": "execute_result"
    }
   ],
   "source": [
    "(G * m * u.s) ** (-1/3)"
   ]
  },
  {
   "cell_type": "code",
   "execution_count": 33,
   "id": "547e63de",
   "metadata": {},
   "outputs": [],
   "source": [
    "from sympy import *"
   ]
  },
  {
   "cell_type": "code",
   "execution_count": 34,
   "id": "81127a89",
   "metadata": {},
   "outputs": [],
   "source": [
    "da, a, G, m, fo, fgw = symbols('da, a, G, m, f_{orb}, f_{gw}')"
   ]
  },
  {
   "cell_type": "code",
   "execution_count": 35,
   "id": "b8669794",
   "metadata": {},
   "outputs": [
    {
     "data": {
      "text/latex": [
       "$\\displaystyle - \\frac{3 da \\sqrt{\\frac{G m}{a^{3}}}}{a}$"
      ],
      "text/plain": [
       "-3*da*sqrt(G*m/a**3)/a"
      ]
     },
     "execution_count": 35,
     "metadata": {},
     "output_type": "execute_result"
    }
   ],
   "source": [
    "diff(2 * sqrt(G * m / a**3),a)*da"
   ]
  },
  {
   "cell_type": "code",
   "execution_count": 182,
   "id": "55fcade4",
   "metadata": {},
   "outputs": [],
   "source": [
    "fdot = (-3 * da / a * (fgw/2)).subs(a, (G*m / fo**2)**(1/3))"
   ]
  },
  {
   "cell_type": "code",
   "execution_count": 184,
   "id": "4852d73f",
   "metadata": {},
   "outputs": [
    {
     "data": {
      "text/latex": [
       "$\\displaystyle - \\frac{0.944940787421155 da f_{gw}}{\\left(\\frac{G m}{f_{gw}^{2}}\\right)^{0.333333333333333}}$"
      ],
      "text/plain": [
       "-0.944940787421155*da*f_{gw}/(G*m/f_{gw}**2)**0.333333333333333"
      ]
     },
     "execution_count": 184,
     "metadata": {},
     "output_type": "execute_result"
    }
   ],
   "source": [
    "simplify(fdot.subs(fo, fgw/2))"
   ]
  },
  {
   "cell_type": "code",
   "execution_count": 58,
   "id": "1cadd576",
   "metadata": {},
   "outputs": [
    {
     "data": {
      "text/latex": [
       "$6.7349947 \\times 10^{-7} \\; \\mathrm{\\frac{1}{s^{2}}}$"
      ],
      "text/plain": [
       "<Quantity 6.73499467e-07 1 / s2>"
      ]
     },
     "execution_count": 58,
     "metadata": {},
     "output_type": "execute_result"
    }
   ],
   "source": [
    "fgw( 1 )"
   ]
  },
  {
   "cell_type": "markdown",
   "id": "c5e5ae7d",
   "metadata": {},
   "source": [
    "## $\\dot{f}_{GW} = -3 (Gm)^{-1/3} (\\frac{f_{GW}}{2} )^{5/3} \\frac{da}{dt}$"
   ]
  },
  {
   "cell_type": "code",
   "execution_count": 29,
   "id": "c4e45812",
   "metadata": {},
   "outputs": [
    {
     "data": {
      "text/latex": [
       "$8.7108628 \\times 10^{-8} \\; \\mathrm{\\frac{1}{s^{2}}}$"
      ],
      "text/plain": [
       "<Quantity 8.71086276e-08 1 / s2>"
      ]
     },
     "execution_count": 29,
     "metadata": {},
     "output_type": "execute_result"
    }
   ],
   "source": [
    "(G * m) **(-1/3) * u.m / u.s * (1/u.s)**(5/3)"
   ]
  },
  {
   "cell_type": "code",
   "execution_count": 6,
   "id": "68825ba2",
   "metadata": {},
   "outputs": [
    {
     "ename": "NameError",
     "evalue": "name 'm' is not defined",
     "output_type": "error",
     "traceback": [
      "\u001b[1;31m---------------------------------------------------------------------------\u001b[0m",
      "\u001b[1;31mNameError\u001b[0m                                 Traceback (most recent call last)",
      "Cell \u001b[1;32mIn[6], line 1\u001b[0m\n\u001b[1;32m----> 1\u001b[0m \u001b[43mm\u001b[49m\n",
      "\u001b[1;31mNameError\u001b[0m: name 'm' is not defined"
     ]
    }
   ],
   "source": [
    "m"
   ]
  },
  {
   "cell_type": "code",
   "execution_count": 63,
   "id": "8723fbc0",
   "metadata": {},
   "outputs": [],
   "source": [
    "from scipy.integrate import quad"
   ]
  },
  {
   "cell_type": "code",
   "execution_count": 61,
   "id": "1ec130ae",
   "metadata": {},
   "outputs": [],
   "source": [
    "def ncycles(f):\n",
    "\n",
    "    return quad(fgw, 10 , 1.474e3 )[0]"
   ]
  },
  {
   "cell_type": "code",
   "execution_count": 68,
   "id": "df15719f",
   "metadata": {},
   "outputs": [
    {
     "data": {
      "text/plain": [
       "1755783.357844257"
      ]
     },
     "execution_count": 68,
     "metadata": {},
     "output_type": "execute_result"
    }
   ],
   "source": [
    "quad(fgw, 10 , 1.474e3 )[0]"
   ]
  },
  {
   "cell_type": "code",
   "execution_count": 71,
   "id": "1929ff44",
   "metadata": {},
   "outputs": [
    {
     "data": {
      "text/plain": [
       "1927415.903944114"
      ]
     },
     "execution_count": 71,
     "metadata": {},
     "output_type": "execute_result"
    }
   ],
   "source": [
    "quad(fgw_nodm, 10 , 1.474e3 )[0]"
   ]
  },
  {
   "cell_type": "code",
   "execution_count": 72,
   "id": "5f8f24e3",
   "metadata": {},
   "outputs": [
    {
     "data": {
      "text/plain": [
       "171632"
      ]
     },
     "execution_count": 72,
     "metadata": {},
     "output_type": "execute_result"
    }
   ],
   "source": [
    "1927415 - 1755783"
   ]
  },
  {
   "cell_type": "code",
   "execution_count": null,
   "id": "81010049",
   "metadata": {},
   "outputs": [],
   "source": []
  },
  {
   "cell_type": "markdown",
   "id": "e2756000",
   "metadata": {},
   "source": [
    "difference between the two:"
   ]
  },
  {
   "cell_type": "code",
   "execution_count": 187,
   "id": "56d452f8",
   "metadata": {},
   "outputs": [
    {
     "data": {
      "text/plain": [
       "1.2804613031058169e+22"
      ]
     },
     "execution_count": 187,
     "metadata": {},
     "output_type": "execute_result"
    }
   ],
   "source": [
    "np.abs(quad(fgw, 10 , 1.474e3 )[0]  -quad(fgw_nodm, 10 , 1.474e3 )[0] )"
   ]
  },
  {
   "cell_type": "markdown",
   "id": "f57be5e0",
   "metadata": {},
   "source": [
    "## Bibliography "
   ]
  },
  {
   "cell_type": "markdown",
   "id": "5224bd78",
   "metadata": {},
   "source": [
    "[1] M. Maggiore, Gravitational Waves: Volume 1: Theory and Experiments, 1st ed. (Oxford\n",
    "University PressOxford, 2007)."
   ]
  },
  {
   "cell_type": "code",
   "execution_count": 84,
   "id": "6b495275",
   "metadata": {},
   "outputs": [],
   "source": [
    "from sympy import *"
   ]
  },
  {
   "cell_type": "code",
   "execution_count": 21,
   "id": "6c2ea06f",
   "metadata": {},
   "outputs": [],
   "source": [
    "G, m, r, e, a, phi = symbols('G, m, r, e, a, \\\\phi')"
   ]
  },
  {
   "cell_type": "code",
   "execution_count": 30,
   "id": "27a5f389",
   "metadata": {},
   "outputs": [],
   "source": [
    "R = r*(1+e*cos(phi))"
   ]
  },
  {
   "cell_type": "code",
   "execution_count": 27,
   "id": "67d4590d",
   "metadata": {},
   "outputs": [
    {
     "data": {
      "text/latex": [
       "$\\displaystyle \\frac{\\sqrt{- G a m \\left(e^{2} - 1\\right)} \\left(e \\cos{\\left(\\phi \\right)} + 1\\right)^{2}}{a^{2} \\left(e^{2} - 1\\right)^{2}}$"
      ],
      "text/plain": [
       "sqrt(-G*a*m*(e**2 - 1))*(e*cos(\\phi) + 1)**2/(a**2*(e**2 - 1)**2)"
      ]
     },
     "execution_count": 27,
     "metadata": {},
     "output_type": "execute_result"
    }
   ],
   "source": [
    "simplify((sqrt(G*m*R) / r**2).subs(r,a*(1-e**2)/(1 + e*cos(phi)) ) )"
   ]
  },
  {
   "cell_type": "code",
   "execution_count": null,
   "id": "18695d0a",
   "metadata": {},
   "outputs": [],
   "source": []
  }
 ],
 "metadata": {
  "kernelspec": {
   "display_name": "Python 3 (ipykernel)",
   "language": "python",
   "name": "python3"
  },
  "language_info": {
   "codemirror_mode": {
    "name": "ipython",
    "version": 3
   },
   "file_extension": ".py",
   "mimetype": "text/x-python",
   "name": "python",
   "nbconvert_exporter": "python",
   "pygments_lexer": "ipython3",
   "version": "3.8.16"
  }
 },
 "nbformat": 4,
 "nbformat_minor": 5
}
