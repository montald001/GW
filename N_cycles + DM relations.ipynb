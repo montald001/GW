{
 "cells": [
  {
   "cell_type": "markdown",
   "id": "25bda52e",
   "metadata": {},
   "source": [
    "## GW analysis with DM effects"
   ]
  },
  {
   "cell_type": "code",
   "execution_count": 1,
   "id": "12d4cb46",
   "metadata": {},
   "outputs": [],
   "source": [
    "import numpy as np\n",
    "import matplotlib.pyplot as plt\n",
    "from astropy import units as u\n",
    "from astropy import constants as const"
   ]
  },
  {
   "cell_type": "markdown",
   "id": "335a45ec",
   "metadata": {},
   "source": [
    "Let $m_1$ and $m_2$ note the masses of the binary system that is inspiraling in the prescence of dark matter. Let $\\phi$ and $r$ denote the orbital phase and separation, respectively. Then, the follwoing relations can be obtained"
   ]
  },
  {
   "cell_type": "markdown",
   "id": "a049ef63",
   "metadata": {},
   "source": [
    "### Orbital relations [1]"
   ]
  },
  {
   "cell_type": "markdown",
   "id": "28e738e2",
   "metadata": {},
   "source": [
    "## $(1) \\quad \\mu = \\frac{m_1 m_2}{m_1 + m_2}, \\quad m = m_1 + m_2$"
   ]
  },
  {
   "cell_type": "markdown",
   "id": "7ca0aeb7",
   "metadata": {},
   "source": [
    "## $(2) \\quad r = \\frac{a(1-e^2)}{(1+e\\cos{\\phi})} \\to a$"
   ]
  },
  {
   "cell_type": "markdown",
   "id": "dba21543",
   "metadata": {},
   "source": [
    "## $(3) \\quad \\dot{\\phi} = \\frac{ \\big( G  mR  \\big)^{1/2}}{r^2},  \\: R = r (1+e\\cos{\\phi}), \\quad \\to \\quad \\dot{\\phi} = \\big( \\frac{Gm}{a^3}\\big)^{1/2} (1-e^2)^{-3/2} (1 + e\\cos{\\phi})^2$"
   ]
  },
  {
   "cell_type": "markdown",
   "id": "13bd6f85",
   "metadata": {},
   "source": [
    "## $\\quad \\dot{\\phi} = \\big( \\frac{Gm}{a^3}\\big)^{1/2}$"
   ]
  },
  {
   "cell_type": "markdown",
   "id": "4e330246",
   "metadata": {},
   "source": [
    "## Dark matter relations [2][3]"
   ]
  },
  {
   "cell_type": "markdown",
   "id": "1a58ee50",
   "metadata": {},
   "source": [
    "\n",
    "## $(4) \\quad \\rho_{\\mathrm{spike}}(r)= \\begin{cases}0 & \\text { for } r \\leqslant 2 R_s \\\\ \n",
    "\\rho_{sp}\\left(\\frac{r}{r_{\\mathrm{sp}}}\\right)^{-\\gamma} & \\text { for } 2 R_s<r \\leqslant r_{\\mathrm{sp}}, \n",
    "\\\\ \\rho_{\\text{NFW}}(r) & \\text { for } r>r_{\\mathrm{sp}}\\end{cases} \\qquad r_{\\text{sp}} \\approx \\Big[ \\frac{(3-\\gamma)(0.2)^{3-\\gamma}M_{BH}}{2 \\pi \\rho_{sp}} \\Big]^{1/3} $"
   ]
  },
  {
   "cell_type": "markdown",
   "id": "346c64ba",
   "metadata": {},
   "source": [
    "## $(5) \\quad \\frac{dE_{DM}}{dt} = \\frac{4 \\pi G^2 \\mu^2 \\rho_{DM}(r) \\ln{\\Lambda}}{v}, \\quad v = (\\dot{r}^2 + r^2 \\dot{\\phi}^2)^{1/2}, \\quad \\Lambda = \\sqrt{m_1 / m_2}$"
   ]
  },
  {
   "cell_type": "markdown",
   "id": "0af31df4",
   "metadata": {},
   "source": [
    "### Gravitational wave relations [1]"
   ]
  },
  {
   "cell_type": "code",
   "execution_count": null,
   "id": "ad1ee20c",
   "metadata": {},
   "outputs": [],
   "source": []
  },
  {
   "cell_type": "markdown",
   "id": "f57be5e0",
   "metadata": {},
   "source": [
    "## Bibliography "
   ]
  },
  {
   "cell_type": "markdown",
   "id": "5224bd78",
   "metadata": {},
   "source": [
    "[1] M. Maggiore, Gravitational Waves: Volume 1: Theory and Experiments, 1st ed. (Oxford\n",
    "University PressOxford, 2007)."
   ]
  },
  {
   "cell_type": "code",
   "execution_count": 5,
   "id": "6b495275",
   "metadata": {},
   "outputs": [],
   "source": [
    "from sympy import *"
   ]
  },
  {
   "cell_type": "code",
   "execution_count": 21,
   "id": "6c2ea06f",
   "metadata": {},
   "outputs": [],
   "source": [
    "G, m, r, e, a, phi = symbols('G, m, r, e, a, \\\\phi')"
   ]
  },
  {
   "cell_type": "code",
   "execution_count": 30,
   "id": "27a5f389",
   "metadata": {},
   "outputs": [],
   "source": [
    "R = r*(1+e*cos(phi))"
   ]
  },
  {
   "cell_type": "code",
   "execution_count": 27,
   "id": "67d4590d",
   "metadata": {},
   "outputs": [
    {
     "data": {
      "text/latex": [
       "$\\displaystyle \\frac{\\sqrt{- G a m \\left(e^{2} - 1\\right)} \\left(e \\cos{\\left(\\phi \\right)} + 1\\right)^{2}}{a^{2} \\left(e^{2} - 1\\right)^{2}}$"
      ],
      "text/plain": [
       "sqrt(-G*a*m*(e**2 - 1))*(e*cos(\\phi) + 1)**2/(a**2*(e**2 - 1)**2)"
      ]
     },
     "execution_count": 27,
     "metadata": {},
     "output_type": "execute_result"
    }
   ],
   "source": [
    "simplify((sqrt(G*m*R) / r**2).subs(r,a*(1-e**2)/(1 + e*cos(phi)) ) )"
   ]
  },
  {
   "cell_type": "code",
   "execution_count": null,
   "id": "18695d0a",
   "metadata": {},
   "outputs": [],
   "source": []
  }
 ],
 "metadata": {
  "kernelspec": {
   "display_name": "Python 3 (ipykernel)",
   "language": "python",
   "name": "python3"
  },
  "language_info": {
   "codemirror_mode": {
    "name": "ipython",
    "version": 3
   },
   "file_extension": ".py",
   "mimetype": "text/x-python",
   "name": "python",
   "nbconvert_exporter": "python",
   "pygments_lexer": "ipython3",
   "version": "3.10.2"
  }
 },
 "nbformat": 4,
 "nbformat_minor": 5
}
