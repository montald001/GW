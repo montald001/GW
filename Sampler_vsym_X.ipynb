{
 "cells": [
  {
   "cell_type": "code",
   "execution_count": 1,
   "id": "b7cec64b",
   "metadata": {},
   "outputs": [],
   "source": [
    "import bilby\n",
    "import numpy as np\n",
    "import matplotlib.pyplot as plt\n",
    "from astropy import units as u\n",
    "from astropy import constants as const\n",
    "import seaborn as sns\n",
    "import warnings\n",
    "\n",
    "G = (const.G).value \n",
    "c = (const.c).value"
   ]
  },
  {
   "cell_type": "code",
   "execution_count": 2,
   "id": "3114dfc6",
   "metadata": {},
   "outputs": [],
   "source": [
    "#function to calculate fisco\n",
    "def f_isco(m):\n",
    "    return c**3 / (6.**(3./2.) * np.pi * G * m )\n",
    "\n",
    "#function to calculate symmetric mass ratio\n",
    "\n",
    "def v_sym(m1, m2):\n",
    "    return m1 * m2 / (m1 + m2)**2\n",
    "\n",
    "#function to get radius separation as soon as the binary enters the \n",
    "#detectors minimum frequency\n",
    "def a_start(f_minimum, m):\n",
    "    a = ( np.sqrt( G * m) / np.pi / f_minimum )**(2. / 3.)\n",
    "    return a\n",
    "\n",
    "#function to calculate the binary coalescence time from the moment it \n",
    "#enters the detector's frequency range with total mass and reduced mass\n",
    "def tcoal(fmin, m, mu):\n",
    "    r0 = a_start(f_minimum = fmin, m = m)\n",
    "    t_coal = 5. / 256. * c**5 * r0**4 / G**3 / m**2 / mu\n",
    "    return t_coal\n",
    "\n",
    "#function to calculate the binary coalescence time from the moment it \n",
    "#enters the detector's frequency range with total mass and reduced mass\n",
    "#but this takes m1  and m2 as inputs\n",
    "def tcoal2(fmin, m11, m22):\n",
    "    m = (m11 + m22)* const.M_sun.value\n",
    "    mu = m11 * m22 * const.M_sun.value**2 / m\n",
    "    r0 = a_start(f_minimum = fmin, m = m)\n",
    "    t_coal = 5. / 256. * c**5 * r0**4 / G**3 / m**2 / mu\n",
    "    return t_coal\n",
    "\n",
    "#function to extract m1 and m2 from the chrip mass mc and the mass ratio q\n",
    "def m1m2( mc, q):\n",
    "    \n",
    "    m2 = mc * (  q / (1 + q) **2 )**(-3. / 5.) * (1 + q )**(-1)\n",
    "    m1 = q * m2\n",
    "    \n",
    "    return m1, m2\n",
    "\n",
    "#return chirp mass given two masses\n",
    "def chirp(m1, m2):\n",
    "    return ( m1 * m2 )**(3. / 5.) / (m1 + m2)**(1. / 5.)\n",
    "\n",
    "#function to calculate GW phase in the PN expension\n",
    "def freq_phase( m, v, f, T, phi0, PN  ):\n",
    "    psi0 = 2 * np.pi * f * T + phi0 - np.pi/4\n",
    "    x = ( np.pi * G * m * f / c**3)**(1/3)\n",
    "    \n",
    "    if PN == 0 :\n",
    "\n",
    "        return psi0 - 3. * x**(-5) / 128. / v * ( 1)\n",
    "\n",
    "    elif PN == 1 :\n",
    "\n",
    "        return psi0 - 3. * x**(-5) / 128. / v * ( 1\n",
    "                                                +(3715. / 756. + 55. / 9. *v) * x**2 \n",
    "                                                )\n",
    "    elif PN == 1.5 :\n",
    "\n",
    "        return psi0 - 3. * x**(-5) / 128. / v * ( 1\n",
    "                                            +(3715. / 756. + 55. / 9. *v) * x**2 \n",
    "                                             - 16. * np.pi * x**3\n",
    "                                            )\n",
    "    elif PN == 2 :\n",
    "\n",
    "        return psi0 - 3. * x**(-5) / 128. / v * ( 1\n",
    "                                                + (3715. / 756. + 55. / 9. *v) * x**2 \n",
    "                                                 - 16. * np.pi * x**3\n",
    "                                                 + (15293365. / 508032. + 27145. / 504. * v + 3085. / 72. * v**2) * x**4\n",
    "                                                )\n",
    "\n",
    "    \n",
    "#Function to calculate GW phase (with dark matter) with a constant density X in g / cm^3\n",
    "#This function should be equivalent to freq_phase at X = 0, PN =0 and \n",
    "#subtracted the constant phase at the end of the evolution (fisco)\n",
    "def Phi(f,m1,m2,X,fmax):\n",
    "    \n",
    "    #constants in cgs\n",
    "    G0 = 6.6743e-8\n",
    "    c0 = 2.9979246e10\n",
    "    Msun0 = 1.9884e33\n",
    "    \n",
    "    M = m1+m2\n",
    "    fgrid = np.linspace(f,fmax,int(1e3))\n",
    "    \n",
    "    mc = (m1*m2)**(3./5.)/M**(1./5.)\n",
    "    eta = (m1*m2)/M**2\n",
    "    #coul_log = np.sqrt( m1 / m2)\n",
    "    coul_log = 1.\n",
    "    fdot = 96.*np.pi**(8./3.)*(G0*mc*Msun0/c0**3)**(5./3.)*fgrid**(11./3.)/5. + 12.*G0*eta*X * coul_log\n",
    "    \n",
    "    integral = np.trapz(fgrid/fdot,fgrid)\n",
    "    \n",
    "    return - integral * np.pi\n",
    "    \n",
    "#function to calculate A(f) \n",
    "def A_f( m, v, f, D):\n",
    "    #getting reduced mass\n",
    "    mu = m * v\n",
    "    #getting chirp mass\n",
    "    mc = mu**(3./5.) * m**(2./5.)\n",
    "    #getting numerical factors\n",
    "    A0 = (G / c**3 )**(5./6.) * c * np.sqrt( 2 / 3 / np.pi**(1./3.)) / D\n",
    "    \n",
    "    #returning amplitude as a function of frequency\n",
    "    A = A0 * mc**(5/6) * (f)**(-7/6)\n",
    "    \n",
    "    return A\n",
    "    \n",
    "\n",
    "    \n",
    "#computes the integral of x / (x^(11/3) +1) from a to b\n",
    "def analytic_int(a,b):\n",
    "    t1 = (-1)**(6/11) * np.log(1 - (-1)**(1/11) / a**(1/3))\n",
    "    t1 -= (-1)**(1/11) * np.log(1 + (-1)**(2/11) / a**(1/3))\n",
    "    t1 -= (-1)**(7/11) * np.log(1 - (-1)**(3/11) / a**(1/3))\n",
    "    t1 += (-1)**(2/11) * np.log(1 + (-1)**(4/11) / a**(1/3))\n",
    "    t1 += (-1)**(8/11) * np.log(1 - (-1)**(5/11) / a**(1/3))\n",
    "    t1 -= (-1)**(3/11) * np.log(1 + (-1)**(6/11) / a**(1/3))\n",
    "    t1 -= (-1)**(9/11) * np.log(1 - (-1)**(7/11) / a**(1/3))\n",
    "    t1 += (-1)**(4/11) * np.log(1 + (-1)**(8/11) / a**(1/3))\n",
    "    t1 += (-1)**(10/11) * np.log(1 - (-1)**(9/11) / a**(1/3))\n",
    "    t1 -= (-1)**(5/11) * np.log(1 + (-1)**(10/11) / a**(1/3))\n",
    "    \n",
    "    t2 = (-1)**(6/11) * np.log(1 - (-1)**(1/11) / b**(1/3))\n",
    "    t2 -= (-1)**(1/11) * np.log(1 + (-1)**(2/11) / b**(1/3))\n",
    "    t2 -= (-1)**(7/11) * np.log(1 - (-1)**(3/11) / b**(1/3))\n",
    "    t2 += (-1)**(2/11) * np.log(1 + (-1)**(4/11) / b**(1/3))\n",
    "    t2 += (-1)**(8/11) * np.log(1 - (-1)**(5/11) / b**(1/3))\n",
    "    t2 -= (-1)**(3/11) * np.log(1 + (-1)**(6/11) / b**(1/3))\n",
    "    t2 -= (-1)**(9/11) * np.log(1 - (-1)**(7/11) / b**(1/3))\n",
    "    t2 += (-1)**(4/11) * np.log(1 + (-1)**(8/11) / b**(1/3))\n",
    "    t2 += (-1)**(10/11) * np.log(1 - (-1)**(9/11) / b**(1/3))\n",
    "    t2 -= (-1)**(5/11) * np.log(1 + (-1)**(10/11) / b**(1/3))\n",
    "    \n",
    "    t3 = np.log((b**(1/3) + (b/a)**(1/3))/(1 + b**(1/3)))\n",
    "    \n",
    "    return  np.real( 3/11 * (t1 - t2 + t3) )\n",
    "\n",
    "\n",
    "#takes f in hz, m1 and m2 in kg, X in \n",
    "def Phi_analytic(f,m1,m2,X,fmax):\n",
    "        \n",
    "    #constants in cgs\n",
    "    G0 = 6.6743e-8\n",
    "    c0 = 2.9979246e10\n",
    "    Msun0 = 1.9884e33\n",
    "    \n",
    "    M = m1+m2\n",
    "    \n",
    "    mc = (m1*m2)**(3./5.)/M**(1./5.)\n",
    "    #coul_log = np.sqrt( m1 / m2)\n",
    "    coul_log = 1.\n",
    "    \n",
    "    A = 12. * G0 * (m1*m2)/M**2  * X * coul_log\n",
    "    factor = ( 96. * np.pi**(8. / 3.) / ( 5. * A ) * ( G0*mc*Msun0/c0**3 )**(5. / 3. )  )**(3. / 11. )\n",
    "\n",
    "    integral = ( factor**2 * A)**(-1) * analytic_int(f * factor , fmax * factor)\n",
    "    \n",
    "    return - integral * np.pi\n",
    "\n",
    "#extract m1 and m2 when you're given chirp mass mc and total mass m\n",
    "def m1m2_cm(mc, m):\n",
    "    \n",
    "    m1 = 0.5 *( m + np.sqrt( -4*mc**(5/3) * m**(1/3) + m**2 ) )\n",
    "    m2 = 0.5 *( m - np.sqrt( -4*mc**(5/3) * m**(1/3) + m**2 ) ) \n",
    "    \n",
    "    return max(m2,m1) , min(m2,m1)\n",
    "\n",
    "def m_red(m1,m2):\n",
    "    return m1 * m2 / (m1 + m2)\n",
    "\n",
    "#extract m1 and m2 when you're given chirp mass mc and reduced mass m\n",
    "def m1m2_red(mc, m):\n",
    "    \n",
    "    m1 = 0.5 *( mc**(5/2)/m**(3/2) + np.sqrt( -4*mc**(5/2) * m**(5/2) + mc**5 ) / m**(3/2) )\n",
    "    m2 = ( 4*m**(7/2)*mc**(5/2) \n",
    "          - 4*m**(7/2)*np.sqrt(-4*mc**(5/2) * m**(5/2) + mc**5)\n",
    "          - 4*m*mc**(5/2)*np.sqrt(-4*mc**(5/2) * m**(5/2) + mc**5)\n",
    "          + mc**5 * np.sqrt(mc**5 - 4 * m**(5/2)*mc**(5/2))/m**(3/2)\n",
    "          - (mc**5 - 4 * m**(5/2)*mc**(5/2))**(3/2)/m**(3/2) \n",
    "         ) / (8*m**5) \n",
    "    \n",
    "    return max(m2,m1) , min(m2,m1)\n",
    "\n",
    "\n",
    "#extract m1 and m2 when you're given chirp mass M and symmetric mass ratio m\n",
    "def m1m2_sym(M, m):\n",
    "    \n",
    "    m1 = (M**5 / m**3 \n",
    "          - 5 * M**5 / m**2 \n",
    "          + 5* M**5 / m\n",
    "          - np.sqrt( -M**10 * (-1 + 4*m) * (1 - 3*m + m**2)**2) / m**3\n",
    "         )**(1/5) / 2**(1/5)\n",
    "    \n",
    "    \n",
    "    m2 = (M**5 * m1 /2 \n",
    "          -5 * M**5 * m * m1 / 2\n",
    "          +7 * M**5 * m**2 * m1 / 2\n",
    "          - M**5 * m**3 * m1 \n",
    "          + np.sqrt( - M**10 * (-1 + 4*m) * (1 - 3*m + m**2)**2) * m1 / 2\n",
    "         \n",
    "         )/ (M**5 * m * (1 - 3*m + m**2))\n",
    "    \n",
    "    return max(m2,m1) , min(m2,m1)\n",
    "\n",
    "# m1m2_sym(M = chirp(mass1,mass2), m = v_sym(mass1, mass2) )\n",
    "# m1m2_cm(mc =  chirp(mass1,mass2), m = mass1 + mass2)\n",
    "# m1m2_red(mc = chirp(mass1,mass2), m= m_red(mass1,mass2))"
   ]
  },
  {
   "cell_type": "code",
   "execution_count": 3,
   "id": "ae646d85",
   "metadata": {},
   "outputs": [],
   "source": [
    "# m1 = 5.7\n",
    "# m2 = 1.5\n",
    "\n",
    "# mc = ( m1 * m2 )**(3. / 5.) / (m1 + m2)**(1. / 5.)\n",
    "# print( 'Chirp mass: ', mc)\n",
    "\n",
    "# mtot = m1 + m2\n",
    "# print( 'Total mass: ', mtot)\n",
    "\n",
    "# msym = ( m1 * m2) / mtot**2\n",
    "# print( 'Sym   mass: ', msym)"
   ]
  },
  {
   "cell_type": "markdown",
   "id": "68d15741",
   "metadata": {},
   "source": [
    "## Some initial parameters for the search"
   ]
  },
  {
   "cell_type": "code",
   "execution_count": 10,
   "id": "6f71e10d",
   "metadata": {},
   "outputs": [],
   "source": [
    "#masses of the binary\n",
    "mass1 = 10.\n",
    "mass2 = 6.\n",
    "\n",
    "#dark matter density\n",
    "X = 1e5 # set to 0 to turn off dynamical friction, X = rho_dm*xi*logLambda this is in \n",
    "\n",
    "#luminosity distance\n",
    "lum_dist = 20\n",
    "\n",
    "#inclination angle\n",
    "theta = np.pi/3"
   ]
  },
  {
   "cell_type": "code",
   "execution_count": 11,
   "id": "322e960b",
   "metadata": {},
   "outputs": [
    {
     "data": {
      "text/plain": [
       "0.234375"
      ]
     },
     "execution_count": 11,
     "metadata": {},
     "output_type": "execute_result"
    }
   ],
   "source": [
    " v_sym(10, 6)"
   ]
  },
  {
   "cell_type": "code",
   "execution_count": 12,
   "id": "d7499538",
   "metadata": {},
   "outputs": [],
   "source": [
    "# First set up logging and some output directories and labels\n",
    "outdir = 'Outdic_full'\n",
    "label = 'Week6_hist'\n",
    "\n",
    "\n",
    "\n",
    "sampling_frequency = 2048.0\n",
    "minimum_frequency = 20\n",
    "duration = int( tcoal2(fmin = 20, m11 = mass1, m22 = mass2) +1 )\n",
    "duration = 56.\n",
    "\n",
    "bilby.core.utils.setup_logger(outdir=outdir, label=label)"
   ]
  },
  {
   "cell_type": "markdown",
   "id": "06166026",
   "metadata": {},
   "source": [
    "## Defining the frequency domain waveform class"
   ]
  },
  {
   "cell_type": "code",
   "execution_count": 13,
   "id": "f6ba0e57",
   "metadata": {},
   "outputs": [],
   "source": [
    "def h_newt(f, chirp_mass,  symmetric_mass_ratio, luminosity_distance, chi_1, chi_2, DM_density, theta, geocent_time, ra, dec, psi):\n",
    "    '''Function to calculate GW waveform \n",
    "        f is the given frequency\n",
    "        M_chirp is the chirp mass\n",
    "        q is the mass ratio m1/m2\n",
    "        luminosity distance is the distance in Mpc\n",
    "        X is the local dark matter density in g/cm^3\n",
    "        theta is the inclination of the binary wrt the observer\n",
    "    '''\n",
    "    #mass conversions\n",
    "#     m11, m22 = m1m2_cm(mc =  chirp_mass, m = total_mass)\n",
    "#     m11, m22 = m1m2( mc = chirp_mass, q = 1 / mass_ratio) \n",
    "    m11, m22 = m1m2_sym(M = chirp_mass, m = symmetric_mass_ratio )\n",
    "    \n",
    "    \n",
    "    mass_1 = (m11 * const.M_sun).value\n",
    "    mass_2 = (m22 * const.M_sun).value\n",
    "    \n",
    "    #distance in Mpc\n",
    "    D = (1e6 * const.pc).value * luminosity_distance\n",
    "    \n",
    "    #total mass and reduced mass\n",
    "    m = mass_1 + mass_2\n",
    "    mu = mass_1 * mass_2 / m\n",
    "    \n",
    "    #frequenct calculations\n",
    "    fmin = (20 * u.Hz).value\n",
    "    fisco = f_isco(m)\n",
    "    fmax = min(fisco,2000.) # ending frequency in Hz\n",
    "    \n",
    "    #mass rescaling factor\n",
    "    v = v_sym(m1 = mass_1, m2 = mass_2)\n",
    "    \n",
    "    #time to coalescence\n",
    "    T = tcoal(fmin = fmin, m = m, mu = mu)\n",
    "    \n",
    "    \n",
    "    #PN order\n",
    "    PN = 0\n",
    "    \n",
    "    phi_0 = Phi_analytic(f = f ,m1 = m11,m2 = m22, X = DM_density,fmax = fmax )\n",
    "    \n",
    "    \n",
    "    #phase calcualtion without dark matter\n",
    "#     psi_SPA = freq_phase( m =m, v=v, f=f, T=T, phi0 = 0.0, PN = PN  ) #old function that uses the PN order\n",
    "\n",
    "    #phase calculation with dark matter\n",
    "    psi_SPA = 2 * np.pi * f * T  - np.pi/4 + phi_0\n",
    "\n",
    "    #amplitude\n",
    "    A_SPA = A_f( m = m, v = v, f = f + 1e-4, D = D)\n",
    "\n",
    "    \n",
    "    #polarization calculation\n",
    "    plus = A_SPA * np.exp( 1j * psi_SPA  ) * ( 1 + np.cos(theta)**2) / 2.\n",
    "    cross = A_SPA * np.exp( 1j * ( psi_SPA + np.pi /2. )  ) * np.cos(theta)\n",
    "    \n",
    "    return {'plus': plus, 'cross': cross}"
   ]
  },
  {
   "cell_type": "markdown",
   "id": "00eff0b1",
   "metadata": {},
   "source": [
    "## Injection parameters"
   ]
  },
  {
   "cell_type": "code",
   "execution_count": 14,
   "id": "bfb68478",
   "metadata": {},
   "outputs": [],
   "source": [
    "#set injection parameters to the previously defined constants\n",
    "injection_parameters = dict(\n",
    "                            chirp_mass=  chirp(mass1,mass2) ,\n",
    "                            symmetric_mass_ratio = v_sym(mass1, mass2) , \n",
    "                            luminosity_distance= lum_dist,\n",
    "                            chi_1 = 0.0,\n",
    "                            chi_2 = 0.0,\n",
    "                            DM_density=X,\n",
    "                            theta = theta,\n",
    "                            geocent_time=1126259642,\n",
    "                            ra=0, \n",
    "                            dec=0, \n",
    "                            psi=0)"
   ]
  },
  {
   "cell_type": "code",
   "execution_count": 15,
   "id": "7b9a41e0",
   "metadata": {},
   "outputs": [
    {
     "data": {
      "text/plain": [
       "(9.999999999999972, 5.999999999999987)"
      ]
     },
     "execution_count": 15,
     "metadata": {},
     "output_type": "execute_result"
    }
   ],
   "source": [
    "m1m2_sym(M = chirp(mass1,mass2), m = v_sym(mass1,mass2) )"
   ]
  },
  {
   "cell_type": "markdown",
   "id": "5ee11744",
   "metadata": {},
   "source": [
    "## Waveform generator"
   ]
  },
  {
   "cell_type": "code",
   "execution_count": 16,
   "id": "41a039c3",
   "metadata": {},
   "outputs": [
    {
     "name": "stderr",
     "output_type": "stream",
     "text": [
      "15:54 bilby INFO    : Waveform generator initiated with\n",
      "  frequency_domain_source_model: __main__.h_newt\n",
      "  time_domain_source_model: None\n",
      "  parameter_conversion: bilby.gw.conversion.convert_to_lal_binary_black_hole_parameters\n"
     ]
    }
   ],
   "source": [
    "# Passing our source function to the WaveformGenerator\n",
    "waveform_generator = bilby.gw.waveform_generator.WaveformGenerator(\n",
    "    duration=duration, \n",
    "    sampling_frequency=sampling_frequency ,\n",
    "    frequency_domain_source_model=h_newt\n",
    ")"
   ]
  },
  {
   "cell_type": "markdown",
   "id": "15049f45",
   "metadata": {},
   "source": [
    "## Setting up the interferometers and frequency band"
   ]
  },
  {
   "cell_type": "code",
   "execution_count": 17,
   "id": "0bae90ba",
   "metadata": {},
   "outputs": [
    {
     "name": "stderr",
     "output_type": "stream",
     "text": [
      "/tmp/ipykernel_2344765/2247937962.py:115: RuntimeWarning: divide by zero encountered in true_divide\n",
      "  t1 = (-1)**(6/11) * np.log(1 - (-1)**(1/11) / a**(1/3))\n",
      "/tmp/ipykernel_2344765/2247937962.py:116: RuntimeWarning: divide by zero encountered in true_divide\n",
      "  t1 -= (-1)**(1/11) * np.log(1 + (-1)**(2/11) / a**(1/3))\n",
      "/tmp/ipykernel_2344765/2247937962.py:116: RuntimeWarning: invalid value encountered in subtract\n",
      "  t1 -= (-1)**(1/11) * np.log(1 + (-1)**(2/11) / a**(1/3))\n",
      "/tmp/ipykernel_2344765/2247937962.py:117: RuntimeWarning: divide by zero encountered in true_divide\n",
      "  t1 -= (-1)**(7/11) * np.log(1 - (-1)**(3/11) / a**(1/3))\n",
      "/tmp/ipykernel_2344765/2247937962.py:117: RuntimeWarning: invalid value encountered in subtract\n",
      "  t1 -= (-1)**(7/11) * np.log(1 - (-1)**(3/11) / a**(1/3))\n",
      "/tmp/ipykernel_2344765/2247937962.py:118: RuntimeWarning: divide by zero encountered in true_divide\n",
      "  t1 += (-1)**(2/11) * np.log(1 + (-1)**(4/11) / a**(1/3))\n",
      "/tmp/ipykernel_2344765/2247937962.py:119: RuntimeWarning: divide by zero encountered in true_divide\n",
      "  t1 += (-1)**(8/11) * np.log(1 - (-1)**(5/11) / a**(1/3))\n",
      "/tmp/ipykernel_2344765/2247937962.py:120: RuntimeWarning: divide by zero encountered in true_divide\n",
      "  t1 -= (-1)**(3/11) * np.log(1 + (-1)**(6/11) / a**(1/3))\n",
      "/tmp/ipykernel_2344765/2247937962.py:121: RuntimeWarning: divide by zero encountered in true_divide\n",
      "  t1 -= (-1)**(9/11) * np.log(1 - (-1)**(7/11) / a**(1/3))\n",
      "/tmp/ipykernel_2344765/2247937962.py:122: RuntimeWarning: divide by zero encountered in true_divide\n",
      "  t1 += (-1)**(4/11) * np.log(1 + (-1)**(8/11) / a**(1/3))\n",
      "/tmp/ipykernel_2344765/2247937962.py:123: RuntimeWarning: divide by zero encountered in true_divide\n",
      "  t1 += (-1)**(10/11) * np.log(1 - (-1)**(9/11) / a**(1/3))\n",
      "/tmp/ipykernel_2344765/2247937962.py:124: RuntimeWarning: divide by zero encountered in true_divide\n",
      "  t1 -= (-1)**(5/11) * np.log(1 + (-1)**(10/11) / a**(1/3))\n",
      "/tmp/ipykernel_2344765/2247937962.py:137: RuntimeWarning: divide by zero encountered in true_divide\n",
      "  t3 = np.log((b**(1/3) + (b/a)**(1/3))/(1 + b**(1/3)))\n",
      "15:54 bilby INFO    : Injected signal in H1:\n",
      "15:54 bilby INFO    :   optimal SNR = 749.28\n",
      "15:54 bilby INFO    :   matched filter SNR = 748.50-1.10j\n",
      "15:54 bilby INFO    :   chirp_mass = 6.699875826622859\n",
      "15:54 bilby INFO    :   symmetric_mass_ratio = 0.234375\n",
      "15:54 bilby INFO    :   luminosity_distance = 20\n",
      "15:54 bilby INFO    :   chi_1 = 0.0\n",
      "15:54 bilby INFO    :   chi_2 = 0.0\n",
      "15:54 bilby INFO    :   DM_density = 100000.0\n",
      "15:54 bilby INFO    :   theta = 1.0471975511965976\n",
      "15:54 bilby INFO    :   geocent_time = 1126259642\n",
      "15:54 bilby INFO    :   ra = 0\n",
      "15:54 bilby INFO    :   dec = 0\n",
      "15:54 bilby INFO    :   psi = 0\n",
      "15:54 bilby INFO    : Injected signal in L1:\n",
      "15:54 bilby INFO    :   optimal SNR = 757.24\n",
      "15:54 bilby INFO    :   matched filter SNR = 758.21+0.89j\n",
      "15:54 bilby INFO    :   chirp_mass = 6.699875826622859\n",
      "15:54 bilby INFO    :   symmetric_mass_ratio = 0.234375\n",
      "15:54 bilby INFO    :   luminosity_distance = 20\n",
      "15:54 bilby INFO    :   chi_1 = 0.0\n",
      "15:54 bilby INFO    :   chi_2 = 0.0\n",
      "15:54 bilby INFO    :   DM_density = 100000.0\n",
      "15:54 bilby INFO    :   theta = 1.0471975511965976\n",
      "15:54 bilby INFO    :   geocent_time = 1126259642\n",
      "15:54 bilby INFO    :   ra = 0\n",
      "15:54 bilby INFO    :   dec = 0\n",
      "15:54 bilby INFO    :   psi = 0\n"
     ]
    },
    {
     "data": {
      "text/plain": [
       "[{'plus': array([            nan           +nanj, -4.10660293e-18-8.21974352e-20j,\n",
       "         -7.75657219e-19-1.66367840e-18j, ...,\n",
       "         -5.03946992e-24+1.04596995e-23j, -1.15659433e-23+1.01244273e-24j,\n",
       "         -6.77983670e-24-9.42467056e-24j]),\n",
       "  'cross': array([            nan           +nanj,  6.57579482e-20-3.28528235e-18j,\n",
       "          1.33094272e-18-6.20525775e-19j, ...,\n",
       "         -8.36775960e-24-4.03157594e-24j, -8.09954184e-25-9.25275467e-24j,\n",
       "          7.53973645e-24-5.42386936e-24j])},\n",
       " {'plus': array([            nan           +nanj, -4.10660293e-18-8.21974352e-20j,\n",
       "         -7.75657219e-19-1.66367840e-18j, ...,\n",
       "         -5.03946992e-24+1.04596995e-23j, -1.15659433e-23+1.01244273e-24j,\n",
       "         -6.77983670e-24-9.42467056e-24j]),\n",
       "  'cross': array([            nan           +nanj,  6.57579482e-20-3.28528235e-18j,\n",
       "          1.33094272e-18-6.20525775e-19j, ...,\n",
       "         -8.36775960e-24-4.03157594e-24j, -8.09954184e-25-9.25275467e-24j,\n",
       "          7.53973645e-24-5.42386936e-24j])}]"
      ]
     },
     "execution_count": 17,
     "metadata": {},
     "output_type": "execute_result"
    }
   ],
   "source": [
    "# Set up interferometers.\n",
    "ifos = bilby.gw.detector.InterferometerList(['H1', 'L1'])\n",
    "for interferometer in ifos:\n",
    "    interferometer.minimum_frequency = 20\n",
    "\n",
    "ifos.set_strain_data_from_power_spectral_densities(\n",
    "    sampling_frequency=sampling_frequency, \n",
    "    duration=duration,\n",
    "    start_time=injection_parameters['geocent_time'] \n",
    ")\n",
    "ifos.inject_signal(waveform_generator=waveform_generator,\n",
    "                   parameters=injection_parameters)\n",
    "\n"
   ]
  },
  {
   "cell_type": "code",
   "execution_count": 18,
   "id": "deddb772",
   "metadata": {},
   "outputs": [
    {
     "data": {
      "text/plain": [
       "Text(0.5, 0, 'Frequency (hz)')"
      ]
     },
     "execution_count": 18,
     "metadata": {},
     "output_type": "execute_result"
    },
    {
     "data": {
      "image/png": "[encoded data removed]",
      "text/plain": [
       "<Figure size 432x288 with 1 Axes>"
      ]
     },
     "metadata": {
      "needs_background": "light"
     },
     "output_type": "display_data"
    }
   ],
   "source": [
    "plt.plot( ifos[0].frequency_array, ifos[0].amplitude_spectral_density_array ) \n",
    "plt.yscale('log')\n",
    "plt.xscale('log')\n",
    "plt.ylabel('strain') \n",
    "plt.xlabel('Frequency (hz)')"
   ]
  },
  {
   "cell_type": "markdown",
   "id": "60613cb1",
   "metadata": {},
   "source": [
    "## Set up antenna response functions"
   ]
  },
  {
   "cell_type": "code",
   "execution_count": 19,
   "id": "57568e85",
   "metadata": {},
   "outputs": [],
   "source": [
    "def h_variable(interf, injection_params):\n",
    "    F_plus0 = interf[0].antenna_response(ra = injection_params['ra'],\n",
    "                         dec = injection_params['dec'], \n",
    "                         time = injection_params['geocent_time'], \n",
    "                         psi = injection_params['psi'], \n",
    "                         mode = 'plus')\n",
    "\n",
    "\n",
    "    F_cross0 = interf[0].antenna_response(ra = injection_params['ra'],\n",
    "                             dec = injection_params['dec'], \n",
    "                             time = injection_params['geocent_time'], \n",
    "                             psi = injection_params['psi'], \n",
    "                             mode = 'cross')\n",
    "    \n",
    "    \n",
    "    h_strain = h_newt(interf.frequency_array,\n",
    "        chirp_mass=  injection_params['chirp_mass'] ,\n",
    "        symmetric_mass_ratio =  injection_params['symmetric_mass_ratio'] , \n",
    "        luminosity_distance=  injection_params['luminosity_distance'],\n",
    "        chi_1 =  injection_params['chi_1'],\n",
    "        chi_2 =  injection_params['chi_2'],\n",
    "        DM_density= injection_params['DM_density'],\n",
    "        theta =  injection_params['theta'],\n",
    "        geocent_time= injection_params['geocent_time'],\n",
    "        ra= injection_params['ra'], \n",
    "        dec= injection_params['dec'], \n",
    "        psi= injection_params['psi']) \n",
    "    \n",
    "    return h_strain['plus'] * F_plus0 + h_strain['cross'] * F_cross0\n",
    "    "
   ]
  },
  {
   "cell_type": "code",
   "execution_count": 17,
   "id": "b46220ec",
   "metadata": {},
   "outputs": [
    {
     "data": {
      "text/plain": [
       "Text(0, 0.5, 'h(f)')"
      ]
     },
     "execution_count": 17,
     "metadata": {},
     "output_type": "execute_result"
    },
    {
     "data": {
      "image/png": "[encoded data removed]",
      "text/plain": [
       "<Figure size 432x288 with 1 Axes>"
      ]
     },
     "metadata": {
      "needs_background": "light"
     },
     "output_type": "display_data"
    }
   ],
   "source": [
    "F_plus = ifos[0].antenna_response(ra = injection_parameters['ra'],\n",
    "                         dec = injection_parameters['dec'], \n",
    "                         time = injection_parameters['geocent_time'], \n",
    "                         psi = injection_parameters['psi'], \n",
    "                         mode = 'plus')\n",
    "\n",
    "\n",
    "F_cross = ifos[0].antenna_response(ra = injection_parameters['ra'],\n",
    "                         dec = injection_parameters['dec'], \n",
    "                         time = injection_parameters['geocent_time'], \n",
    "                         psi = injection_parameters['psi'], \n",
    "                         mode = 'cross')\n",
    "\n",
    "plt.plot(ifos[0].frequency_array[ifos[0].frequency_mask],\n",
    "         np.abs(ifos[0].frequency_domain_strain)[ifos[0].frequency_mask]\n",
    "        )\n",
    "\n",
    "\n",
    "\n",
    "plt.plot( ifos[0].frequency_array[ifos[0].frequency_mask]\n",
    "    , np.abs(F_plus * waveform_generator.frequency_domain_strain()['plus'] \n",
    "+ F_cross * waveform_generator.frequency_domain_strain()['cross'])[ifos[0].frequency_mask] )\n",
    "\n",
    "plt.yscale('log')\n",
    "\n",
    "plt.xlabel('Frequency (hz)')\n",
    "plt.ylabel('h(f)')"
   ]
  },
  {
   "cell_type": "markdown",
   "id": "6743bd57",
   "metadata": {},
   "source": [
    "## Computing h(f) template and defining inner product\n",
    "\n",
    "# $(A|B) = 4 Re \\int_{f_{min}}^{f_{max}} \\frac{ A^{*}(f) B(f) }{S_n(f)}$"
   ]
  },
  {
   "cell_type": "code",
   "execution_count": 20,
   "id": "19e7465f",
   "metadata": {},
   "outputs": [],
   "source": [
    "def scalar_product( A, B, f, mask, Sn ):\n",
    "    \n",
    "    integrand = 4 * np.conj(A[mask]) * B[mask] / Sn[mask]\n",
    "    \n",
    "    integral = np.trapz( np.real( integrand ), f[mask])\n",
    "\n",
    "    return integral"
   ]
  },
  {
   "cell_type": "code",
   "execution_count": 30,
   "id": "ceeaf8c0",
   "metadata": {},
   "outputs": [
    {
     "data": {
      "text/plain": [
       "array([-2.13550828e-23+7.87563709e-24j, -1.94744460e-23+1.17359909e-23j,\n",
       "       -1.66842361e-23+1.54126344e-23j, ...,\n",
       "       -2.33433766e-26+2.29524768e-25j,  1.33800167e-25+1.87941166e-25j,\n",
       "        2.24514795e-25+5.30594740e-26j])"
      ]
     },
     "execution_count": 30,
     "metadata": {},
     "output_type": "execute_result"
    }
   ],
   "source": [
    "h_newt(ifos[0].frequency_array[ifos[0].frequency_mask],\n",
    "        chirp_mass=  chirp(mass1,mass2) ,\n",
    "        symmetric_mass_ratio =v_sym(mass1, mass2), \n",
    "        luminosity_distance= lum_dist,\n",
    "        chi_1 = 0.0,\n",
    "        chi_2 = 0.0,\n",
    "        DM_density=X,\n",
    "        theta = theta,\n",
    "        geocent_time=1126259642,\n",
    "        ra=0, \n",
    "        dec=0, \n",
    "        psi=0)['plus'] * F_plus"
   ]
  },
  {
   "cell_type": "code",
   "execution_count": 22,
   "id": "d28c8d0a",
   "metadata": {},
   "outputs": [
    {
     "data": {
      "text/plain": [
       "array([-1.12263389e-22-2.38625615e-22j, -1.54942731e-22-2.13057111e-22j,\n",
       "       -1.94591937e-22-1.77173137e-22j, ...,\n",
       "       -2.67274273e-24-3.99273158e-26j, -2.03560059e-24+1.73239355e-24j,\n",
       "       -3.87949549e-25+2.64462882e-24j])"
      ]
     },
     "execution_count": 22,
     "metadata": {},
     "output_type": "execute_result"
    }
   ],
   "source": [
    "h_template = (F_plus * waveform_generator.frequency_domain_strain()['plus'] \n",
    "              + F_cross * waveform_generator.frequency_domain_strain()['cross'])\n",
    "h_template[ifos[0].frequency_mask]"
   ]
  },
  {
   "cell_type": "code",
   "execution_count": 41,
   "id": "a9b3626a",
   "metadata": {},
   "outputs": [
    {
     "data": {
      "text/plain": [
       "366257.58489382744"
      ]
     },
     "execution_count": 41,
     "metadata": {},
     "output_type": "execute_result"
    }
   ],
   "source": [
    "scalar_product(A = waveform_generator.frequency_domain_strain()['plus']  , \n",
    "               B = waveform_generator.frequency_domain_strain()['plus'] ,\n",
    "               f = ifos[0].frequency_array,\n",
    "               mask = ifos[0].frequency_mask, \n",
    "               Sn = ifos[0].power_spectral_density_array)"
   ]
  },
  {
   "cell_type": "code",
   "execution_count": 21,
   "id": "6153863e",
   "metadata": {},
   "outputs": [
    {
     "data": {
      "text/plain": [
       "{'chirp_mass': 6.699875826622859,\n",
       " 'symmetric_mass_ratio': 0.234375,\n",
       " 'luminosity_distance': 20,\n",
       " 'chi_1': 0.0,\n",
       " 'chi_2': 0.0,\n",
       " 'DM_density': 100000.0,\n",
       " 'theta': 1.0471975511965976,\n",
       " 'geocent_time': 1126259642,\n",
       " 'ra': 0,\n",
       " 'dec': 0,\n",
       " 'psi': 0}"
      ]
     },
     "execution_count": 21,
     "metadata": {},
     "output_type": "execute_result"
    }
   ],
   "source": [
    "injection_parameters"
   ]
  },
  {
   "cell_type": "markdown",
   "id": "cf28f858",
   "metadata": {},
   "source": [
    "### Bilby notifications supressor"
   ]
  },
  {
   "cell_type": "code",
   "execution_count": 22,
   "id": "0f0739ed",
   "metadata": {},
   "outputs": [],
   "source": [
    "#Bilby notifications\n",
    "import logging\n",
    "\n",
    "# Store the original logging level state (the original spams console everytime\n",
    "# there's a waveform computation)\n",
    "original_logging_level = logging.getLogger(\"bilby\").getEffectiveLevel()\n"
   ]
  },
  {
   "cell_type": "code",
   "execution_count": 23,
   "id": "ffc99ec9",
   "metadata": {},
   "outputs": [],
   "source": [
    "# Set Bilby logger's logging level to WARNING (only notify console if a problem arises)\n",
    "logging.getLogger(\"bilby\").setLevel(logging.WARNING)"
   ]
  },
  {
   "cell_type": "code",
   "execution_count": 24,
   "id": "35ee8505",
   "metadata": {},
   "outputs": [],
   "source": [
    "# Reset the logging level back to its original value (original Bibly notifications)\n",
    "logging.getLogger(\"bilby\").setLevel(original_logging_level)"
   ]
  },
  {
   "cell_type": "code",
   "execution_count": 25,
   "id": "083b09c6",
   "metadata": {},
   "outputs": [],
   "source": [
    "#Setting the lower and upper bounds of the sampled mass ratio array\n",
    "sym_mass_ratio_array = np.linspace(0.2,0.25,100)\n",
    "\n",
    "#Setting the lower and upper bounds for the sampled DM density array\n",
    "rho_array= np.linspace(1e4,5e5,100)\n",
    "# d_array = np.linspace(5,60,200)\n",
    "\n",
    "#putting the uniform samples in an array for x-y likelihood plots\n",
    "y_samples = rho_array\n",
    "x_samples = sym_mass_ratio_array\n",
    "\n",
    "\n",
    "#create storage array for data\n",
    "data_matrix = np.zeros((len(y_samples),len(x_samples)))                 "
   ]
  },
  {
   "cell_type": "code",
   "execution_count": 26,
   "id": "f775c11c",
   "metadata": {
    "scrolled": true
   },
   "outputs": [
    {
     "name": "stderr",
     "output_type": "stream",
     "text": [
      "/tmp/ipykernel_2344765/2247937962.py:115: RuntimeWarning: divide by zero encountered in true_divide\n",
      "  t1 = (-1)**(6/11) * np.log(1 - (-1)**(1/11) / a**(1/3))\n",
      "/tmp/ipykernel_2344765/2247937962.py:116: RuntimeWarning: divide by zero encountered in true_divide\n",
      "  t1 -= (-1)**(1/11) * np.log(1 + (-1)**(2/11) / a**(1/3))\n",
      "/tmp/ipykernel_2344765/2247937962.py:116: RuntimeWarning: invalid value encountered in subtract\n",
      "  t1 -= (-1)**(1/11) * np.log(1 + (-1)**(2/11) / a**(1/3))\n",
      "/tmp/ipykernel_2344765/2247937962.py:117: RuntimeWarning: divide by zero encountered in true_divide\n",
      "  t1 -= (-1)**(7/11) * np.log(1 - (-1)**(3/11) / a**(1/3))\n",
      "/tmp/ipykernel_2344765/2247937962.py:117: RuntimeWarning: invalid value encountered in subtract\n",
      "  t1 -= (-1)**(7/11) * np.log(1 - (-1)**(3/11) / a**(1/3))\n",
      "/tmp/ipykernel_2344765/2247937962.py:118: RuntimeWarning: divide by zero encountered in true_divide\n",
      "  t1 += (-1)**(2/11) * np.log(1 + (-1)**(4/11) / a**(1/3))\n",
      "/tmp/ipykernel_2344765/2247937962.py:119: RuntimeWarning: divide by zero encountered in true_divide\n",
      "  t1 += (-1)**(8/11) * np.log(1 - (-1)**(5/11) / a**(1/3))\n",
      "/tmp/ipykernel_2344765/2247937962.py:120: RuntimeWarning: divide by zero encountered in true_divide\n",
      "  t1 -= (-1)**(3/11) * np.log(1 + (-1)**(6/11) / a**(1/3))\n",
      "/tmp/ipykernel_2344765/2247937962.py:121: RuntimeWarning: divide by zero encountered in true_divide\n",
      "  t1 -= (-1)**(9/11) * np.log(1 - (-1)**(7/11) / a**(1/3))\n",
      "/tmp/ipykernel_2344765/2247937962.py:122: RuntimeWarning: divide by zero encountered in true_divide\n",
      "  t1 += (-1)**(4/11) * np.log(1 + (-1)**(8/11) / a**(1/3))\n",
      "/tmp/ipykernel_2344765/2247937962.py:123: RuntimeWarning: divide by zero encountered in true_divide\n",
      "  t1 += (-1)**(10/11) * np.log(1 - (-1)**(9/11) / a**(1/3))\n",
      "/tmp/ipykernel_2344765/2247937962.py:124: RuntimeWarning: divide by zero encountered in true_divide\n",
      "  t1 -= (-1)**(5/11) * np.log(1 + (-1)**(10/11) / a**(1/3))\n",
      "/tmp/ipykernel_2344765/2247937962.py:137: RuntimeWarning: divide by zero encountered in true_divide\n",
      "  t3 = np.log((b**(1/3) + (b/a)**(1/3))/(1 + b**(1/3)))\n"
     ]
    },
    {
     "name": "stdout",
     "output_type": "stream",
     "text": [
      "Current X Index: 10000/ 10000\r"
     ]
    }
   ],
   "source": [
    "#run the loop over all variables to compute likelihood\n",
    "\n",
    "for i in range(len(x_samples)):\n",
    "    for j in range(len(y_samples)):\n",
    "        #set injection parameters to the previously defined constants\n",
    "        \n",
    "        \n",
    "        #creating an injection params dictionary\n",
    "        injection_parameters_tmp = dict(\n",
    "                                    chirp_mass=  chirp(mass1,mass2) ,\n",
    "                                    symmetric_mass_ratio = x_samples[i] , \n",
    "#                                     luminosity_distance = y_samples[j],\n",
    "                                    luminosity_distance= lum_dist,\n",
    "                                    chi_1 = 0.0,\n",
    "                                    chi_2 = 0.0,\n",
    "#                                     DM_density=X,\n",
    "                                    DM_density = y_samples[j],\n",
    "                                    theta = theta,\n",
    "                                    geocent_time=1126259642,\n",
    "                                    ra=0, \n",
    "                                    dec=0, \n",
    "                                    psi=0)\n",
    "        \n",
    "\n",
    "        #setting up a detector\n",
    "        ifos2 = bilby.gw.detector.InterferometerList(['H1', 'L1'])\n",
    "        for interferometer in ifos2:\n",
    "            interferometer.minimum_frequency = 20\n",
    "\n",
    "        ifos2.set_strain_data_from_power_spectral_densities(\n",
    "            sampling_frequency=sampling_frequency, \n",
    "            duration=duration,\n",
    "            start_time=injection_parameters_tmp['geocent_time'] \n",
    "        )\n",
    "\n",
    "        # Passing our source function to the WaveformGenerator\n",
    "        waveform_generator2 = bilby.gw.waveform_generator.WaveformGenerator(\n",
    "            duration=duration, \n",
    "            sampling_frequency=sampling_frequency ,\n",
    "            frequency_domain_source_model=h_newt\n",
    "        )\n",
    "\n",
    "\n",
    "        # Inject the signal\n",
    "\n",
    "        ifos2.inject_signal(waveform_generator=waveform_generator2,\n",
    "                           parameters=injection_parameters_tmp)\n",
    "\n",
    "        #sampled params tempalte h\n",
    "        h_f = h_variable(ifos2, injection_parameters_tmp)\n",
    "\n",
    "        #actual signal with real params s\n",
    "        h_template = h_variable(ifos, injection_parameters)\n",
    "\n",
    "        #computing (s|h)\n",
    "        sh = scalar_product(A = h_template  , \n",
    "                       B = h_f ,\n",
    "                       f = ifos2[0].frequency_array,\n",
    "                       mask = ifos2[0].frequency_mask, \n",
    "                       Sn = ifos2[0].power_spectral_density_array)\n",
    "\n",
    "        #computing (h|h)\n",
    "        hh = scalar_product(A = h_template  , \n",
    "                       B = h_template ,\n",
    "                       f = ifos2[0].frequency_array,\n",
    "                       mask = ifos2[0].frequency_mask, \n",
    "                       Sn = ifos2[0].power_spectral_density_array)\n",
    "     \n",
    "        #storing output as the exponent of the likelihood (s|h) - (h|h)/2 (ignoring noise)\n",
    "        data_matrix[len(y_samples)-1 - j][i] = sh - hh / 2\n",
    "        \n",
    "        #printing progress bar\n",
    "        print(f\"Current X Index: {j+1 + i * len(x_samples)}\" + \"/ \" + str(len(x_samples) * len(y_samples)) , end='\\r')\n",
    "        \n",
    "        \n",
    "        \n",
    "        "
   ]
  },
  {
   "cell_type": "code",
   "execution_count": 27,
   "id": "c727b367",
   "metadata": {},
   "outputs": [
    {
     "data": {
      "text/plain": [
       "array([[-548414.80205632, -534847.51374518, -521055.97144551, ...,\n",
       "         114745.28566459,  109481.34571023,  104048.57549381],\n",
       "       [-548512.60335323, -534922.92746148, -521109.02029777, ...,\n",
       "         115143.39082382,  109868.56149702,  104424.79913352],\n",
       "       [-548610.50522617, -534997.99084066, -521161.26810646, ...,\n",
       "         115540.00606229,  110253.78575404,  104798.53130667],\n",
       "       ...,\n",
       "       [-458863.57325844, -441617.34170363, -424264.41727571, ...,\n",
       "          89724.77772225,   81242.22204557,   72613.16567216],\n",
       "       [-457250.47073941, -440050.35567131, -422745.45490607, ...,\n",
       "          87012.84766358,   78541.74790616,   69925.48784837],\n",
       "       [-455736.1535405 , -438580.83317273, -421322.51007998, ...,\n",
       "          84493.93570566,   76035.18203767,   67432.51991601]])"
      ]
     },
     "execution_count": 27,
     "metadata": {},
     "output_type": "execute_result"
    }
   ],
   "source": [
    "data_matrix"
   ]
  },
  {
   "cell_type": "code",
   "execution_count": 45,
   "id": "cbbb8bee",
   "metadata": {
    "scrolled": false
   },
   "outputs": [
    {
     "data": {
      "image/png": "[encoded data removed]",
      "text/plain": [
       "<Figure size 720x576 with 2 Axes>"
      ]
     },
     "metadata": {
      "needs_background": "light"
     },
     "output_type": "display_data"
    }
   ],
   "source": [
    "import matplotlib.ticker as ticker\n",
    "import matplotlib.colors as mcolors\n",
    "\n",
    "\n",
    "\n",
    "# Sample data matrix A (contains data about computed likelihoods)\n",
    "#uncomment this line if you just want to see exponents\n",
    "#A =  data_matrix / 1e5  \n",
    "\n",
    "# plotting exp( (s|h) - (h|h)/2   ) with an aribitraty normalization of 1e5 for display purposes\n",
    "A = np.exp(data_matrix / 1e5)\n",
    "\n",
    "# Sample x and y vectors (replace these with your own data)\n",
    "x = x_samples\n",
    "#y is flipped when displayed, so flip it again to display ascending order\n",
    "y = np.flip(y_samples)\n",
    "\n",
    "\n",
    "\n",
    "# Create a figure and axis\n",
    "fig, ax = plt.subplots(figsize=(10,8))\n",
    "\n",
    "# Display matrix A as a heatmap\n",
    "cax = ax.imshow(A, cmap='YlGnBu_r', aspect='auto')\n",
    "\n",
    "\n",
    "\n",
    "# Set custom tick positions and labels for the x and y axes (since it's 100 elements, set\n",
    "# ticks to every 25 elements)\n",
    "ax.set_xticks(np.array([ 0, 24, 49, 74, 99]))\n",
    "ax.set_xticklabels(np.round(x[np.array([ 0, 24, 49, 74, 99])], 2))\n",
    "\n",
    "#yticks\n",
    "ax.set_yticks(np.array([ 0, 24, 49, 74, 99]))\n",
    "ax.set_yticklabels(np.round(y[np.array([ 0, 24, 49, 74, 99])], 0))\n",
    "\n",
    "# Add colorbar\n",
    "cbar = fig.colorbar(cax)\n",
    "\n",
    "# Set labels for x and y axes\n",
    "plt.xlabel('Symmetric Mass ratio', fontsize = 14)\n",
    "plt.ylabel('X ', fontsize = 14)\n",
    "\n",
    "# Set the title of the plot (optional)\n",
    "plt.title('X - Mass Ratio Likelihood')\n",
    "ax.plot(np.abs(x - v_sym(mass1, mass2)).argmin(), np.abs(y -X).argmin(), 'ro', lw = 0.5, label = 'True value')\n",
    "plt.legend()\n",
    "\n",
    "\n",
    "# Show the plot\n",
    "plt.show()"
   ]
  },
  {
   "cell_type": "code",
   "execution_count": null,
   "id": "cdf7a3f0",
   "metadata": {},
   "outputs": [],
   "source": []
  }
 ],
 "metadata": {
  "kernelspec": {
   "display_name": "Python 3 (ipykernel)",
   "language": "python",
   "name": "python3"
  },
  "language_info": {
   "codemirror_mode": {
    "name": "ipython",
    "version": 3
   },
   "file_extension": ".py",
   "mimetype": "text/x-python",
   "name": "python",
   "nbconvert_exporter": "python",
   "pygments_lexer": "ipython3",
   "version": "3.10.2"
  }
 },
 "nbformat": 4,
 "nbformat_minor": 5
}
